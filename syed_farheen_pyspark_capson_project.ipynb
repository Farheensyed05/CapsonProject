{
 "cells": [
  {
   "cell_type": "markdown",
   "metadata": {
    "id": "tLqScSBPqaui"
   },
   "source": [
    "# **Olympics Data Analysis Using Pyspark**"
   ]
  },
  {
   "cell_type": "markdown",
   "metadata": {
    "id": "BjGE18bZvuXp"
   },
   "source": [
    "## **Introduction:**"
   ]
  },
  {
   "cell_type": "markdown",
   "metadata": {
    "id": "xYflymygvuUK"
   },
   "source": [
    "### **The Olympic Games are normally held every four years, alternating between the Summer and Winter Olympics every two years in the four-year period.**"
   ]
  },
  {
   "cell_type": "markdown",
   "metadata": {
    "id": "HWfbxWtuv-Ci"
   },
   "source": [
    "### **The Given Data Set is having information from 2000 to 2012(Summer and Winter Olympics Data).**"
   ]
  },
  {
   "cell_type": "markdown",
   "metadata": {
    "id": "h87wpBotv9_t"
   },
   "source": [
    "### **It has information about all types of Sports and Conducted year,Country Athletic Names who participated in the Olympics and different medals won by each Athletic from different countries.For every events there are winners. Therefore various data is generated.**"
   ]
  },
  {
   "cell_type": "markdown",
   "metadata": {
    "id": "4UKzXcfLwMGO"
   },
   "source": [
    "### **Installing the pyspark**"
   ]
  },
  {
   "cell_type": "code",
   "execution_count": 1,
   "metadata": {
    "colab": {
     "base_uri": "https://localhost:8080/"
    },
    "id": "0Gq4Ni7g-TtZ",
    "outputId": "abac61b3-d037-4a06-a839-d46cc5d9bc90"
   },
   "outputs": [
    {
     "name": "stdout",
     "output_type": "stream",
     "text": [
      "Looking in indexes: https://pypi.org/simple, https://us-python.pkg.dev/colab-wheels/public/simple/\n",
      "Requirement already satisfied: pyspark in /usr/local/lib/python3.7/dist-packages (3.2.1)\n",
      "Requirement already satisfied: py4j==0.10.9.3 in /usr/local/lib/python3.7/dist-packages (from pyspark) (0.10.9.3)\n"
     ]
    }
   ],
   "source": [
    "!pip install pyspark #installing the pyspark module"
   ]
  },
  {
   "cell_type": "code",
   "execution_count": 1,
   "metadata": {
    "id": "xLoa_UfV5CTv"
   },
   "outputs": [],
   "source": []
  },
  {
   "cell_type": "markdown",
   "metadata": {
    "id": "rZRY_Od-xL0m"
   },
   "source": [
    "###**Importing SparkSession**"
   ]
  },
  {
   "cell_type": "code",
   "execution_count": 2,
   "metadata": {
    "id": "IuOMJvH4-qcX"
   },
   "outputs": [],
   "source": [
    "from pyspark.sql import SparkSession#importing the SparkSession from pyspark.sql\n",
    "spark=SparkSession.builder.appName(\"project\").getOrCreate()#Creating the SparkSession"
   ]
  },
  {
   "cell_type": "code",
   "execution_count": 3,
   "metadata": {
    "colab": {
     "base_uri": "https://localhost:8080/",
     "height": 219
    },
    "id": "qeKHq10G-qfT",
    "outputId": "f65dcb93-c03b-43e5-b999-cda158cf2280"
   },
   "outputs": [
    {
     "data": {
      "text/html": [
       "\n",
       "            <div>\n",
       "                <p><b>SparkSession - in-memory</b></p>\n",
       "                \n",
       "        <div>\n",
       "            <p><b>SparkContext</b></p>\n",
       "\n",
       "            <p><a href=\"http://5cc954578dd0:4040\">Spark UI</a></p>\n",
       "\n",
       "            <dl>\n",
       "              <dt>Version</dt>\n",
       "                <dd><code>v3.2.1</code></dd>\n",
       "              <dt>Master</dt>\n",
       "                <dd><code>local[*]</code></dd>\n",
       "              <dt>AppName</dt>\n",
       "                <dd><code>project</code></dd>\n",
       "            </dl>\n",
       "        </div>\n",
       "        \n",
       "            </div>\n",
       "        "
      ],
      "text/plain": [
       "<pyspark.sql.session.SparkSession at 0x7f6e7df43150>"
      ]
     },
     "execution_count": 3,
     "metadata": {},
     "output_type": "execute_result"
    }
   ],
   "source": [
    "spark#created SparkSession "
   ]
  },
  {
   "cell_type": "code",
   "execution_count": 3,
   "metadata": {
    "id": "rUmoMRqG5Zn4"
   },
   "outputs": [],
   "source": []
  },
  {
   "cell_type": "markdown",
   "metadata": {
    "id": "whq72-J65h_7"
   },
   "source": [
    "###**1)Write PySpark code to read olympix_data.csv file**"
   ]
  },
  {
   "cell_type": "markdown",
   "metadata": {
    "id": "wY3FI5n15oft"
   },
   "source": [
    "###**After cleaning the Olympic csv file using pandas librabry the new cleaned data is read below using spark.read.csv**"
   ]
  },
  {
   "cell_type": "code",
   "execution_count": 4,
   "metadata": {
    "id": "RFYFPEzT-qiN"
   },
   "outputs": [],
   "source": [
    "clean_data_file=spark.read.csv(\"/content/new_cdata_olympic.csv\",header=True,inferSchema=True)#reading the Olympic Data set"
   ]
  },
  {
   "cell_type": "code",
   "execution_count": 5,
   "metadata": {
    "colab": {
     "base_uri": "https://localhost:8080/"
    },
    "id": "b2RVNCXb-qlA",
    "outputId": "ec521a97-242f-46a8-bc15-38723c7eb63c"
   },
   "outputs": [
    {
     "name": "stdout",
     "output_type": "stream",
     "text": [
      "+---------------------+----+-------------+----+----------+--------------------+----------+------------+-----------+-----------+\n",
      "|name                 |age |country      |year|Date_Given|sports              |gold_medal|silver_medal|brone_medal|total_medal|\n",
      "+---------------------+----+-------------+----+----------+--------------------+----------+------------+-----------+-----------+\n",
      "|Michael Phelps       |23.0|United States|2008|2008-08-24|Swimming            |8         |0           |0          |8          |\n",
      "|Michael Phelps       |19.0|United States|2004|2004-08-29|Swimming            |6         |0           |2          |8          |\n",
      "|Michael Phelps       |27.0|United States|2012|2012-08-12|Swimming            |4         |2           |0          |6          |\n",
      "|Natalie Coughlin     |25.0|United States|2008|2008-08-24|Swimming            |1         |2           |3          |6          |\n",
      "|Aleksey Nemov        |24.0|Russia       |2000|2000-10-01|Gymnastics          |2         |1           |3          |6          |\n",
      "|Alicia Coutts        |24.0|Australia    |2012|2012-08-12|Swimming            |1         |3           |1          |5          |\n",
      "|Missy Franklin       |17.0|United States|2012|2012-08-12|Swimming            |4         |0           |1          |5          |\n",
      "|Ryan Lochte          |27.0|United States|2012|2012-08-12|Swimming            |2         |2           |1          |5          |\n",
      "|Allison Schmitt      |22.0|United States|2012|2012-08-12|Swimming            |3         |1           |1          |5          |\n",
      "|Natalie Coughlin     |21.0|United States|2004|2004-08-29|Swimming            |2         |2           |1          |5          |\n",
      "|Ian Thorpe           |17.0|Australia    |2000|2000-10-01|Swimming            |3         |2           |0          |5          |\n",
      "|Dara Torres          |33.0|United States|2000|2000-10-01|Swimming            |2         |0           |3          |5          |\n",
      "|Cindy Klassen        |26.0|Canada       |2006|2006-02-26|Speed Skating       |1         |2           |2          |5          |\n",
      "|Nastia Liukin        |18.0|United States|2008|2008-08-24|Gymnastics          |1         |3           |1          |5          |\n",
      "|Marit Bj rgen        |29.0|Norway       |2010|2010-02-28|Cross Country Skiing|3         |1           |1          |5          |\n",
      "|Sun Yang             |20.0|China        |2012|2012-08-12|Swimming            |2         |1           |1          |4          |\n",
      "|Kirsty Coventry      |24.0|Zimbabwe     |2008|2008-08-24|Swimming            |1         |3           |0          |4          |\n",
      "|Libby Lenton Trickett|23.0|Australia    |2008|2008-08-24|Swimming            |2         |1           |1          |4          |\n",
      "|Ryan Lochte          |24.0|United States|2008|2008-08-24|Swimming            |2         |0           |2          |4          |\n",
      "|Inge de Bruijn       |30.0|Netherlands  |2004|2004-08-29|Swimming            |1         |1           |2          |4          |\n",
      "+---------------------+----+-------------+----+----------+--------------------+----------+------------+-----------+-----------+\n",
      "only showing top 20 rows\n",
      "\n"
     ]
    }
   ],
   "source": [
    "clean_data_file.show(n=20,truncate=False)#It shows the first 20 rows in the data "
   ]
  },
  {
   "cell_type": "code",
   "execution_count": 6,
   "metadata": {
    "colab": {
     "base_uri": "https://localhost:8080/"
    },
    "id": "uTNnUKihIZXu",
    "outputId": "15545bcd-d630-4ab7-e3e4-b1ce2da1d5b0"
   },
   "outputs": [
    {
     "name": "stdout",
     "output_type": "stream",
     "text": [
      "root\n",
      " |-- name: string (nullable = true)\n",
      " |-- age: double (nullable = true)\n",
      " |-- country: string (nullable = true)\n",
      " |-- year: integer (nullable = true)\n",
      " |-- Date_Given: string (nullable = true)\n",
      " |-- sports: string (nullable = true)\n",
      " |-- gold_medal: integer (nullable = true)\n",
      " |-- silver_medal: integer (nullable = true)\n",
      " |-- brone_medal: integer (nullable = true)\n",
      " |-- total_medal: integer (nullable = true)\n",
      "\n"
     ]
    }
   ],
   "source": [
    "clean_data_file.printSchema()"
   ]
  },
  {
   "cell_type": "code",
   "execution_count": 7,
   "metadata": {
    "colab": {
     "base_uri": "https://localhost:8080/"
    },
    "id": "LZXF6iedIZn1",
    "outputId": "85f8f965-066b-4e73-da8a-00d9a25f0282"
   },
   "outputs": [
    {
     "data": {
      "text/plain": [
       "10"
      ]
     },
     "execution_count": 7,
     "metadata": {},
     "output_type": "execute_result"
    }
   ],
   "source": [
    "len(clean_data_file.columns)#It shows the columns i.e.,10"
   ]
  },
  {
   "cell_type": "code",
   "execution_count": 8,
   "metadata": {
    "colab": {
     "base_uri": "https://localhost:8080/"
    },
    "id": "iKctt5joIj77",
    "outputId": "2ac1dff5-69c3-4766-ebf9-6cfde4b400b1"
   },
   "outputs": [
    {
     "data": {
      "text/plain": [
       "8613"
      ]
     },
     "execution_count": 8,
     "metadata": {},
     "output_type": "execute_result"
    }
   ],
   "source": [
    "clean_data_file.count()#The no of rows are 8613"
   ]
  },
  {
   "cell_type": "markdown",
   "metadata": {
    "id": "471Bsh3YHBBi"
   },
   "source": [
    "###**Observation:**"
   ]
  },
  {
   "cell_type": "markdown",
   "metadata": {
    "id": "Poc5LjL-HGLk"
   },
   "source": [
    "###**It shows the first 20 rows in the data.**"
   ]
  },
  {
   "cell_type": "code",
   "execution_count": 8,
   "metadata": {
    "id": "lAwPgWt76PSS"
   },
   "outputs": [],
   "source": []
  },
  {
   "cell_type": "code",
   "execution_count": 8,
   "metadata": {
    "id": "ehvVPRKM-qnr"
   },
   "outputs": [],
   "source": []
  },
  {
   "cell_type": "markdown",
   "metadata": {
    "id": "ieYVojQy6QP-"
   },
   "source": [
    "###**2)Write PySpark code to print the Olympic Sports/games in the dataset.**\n"
   ]
  },
  {
   "cell_type": "code",
   "execution_count": 9,
   "metadata": {
    "id": "kkjVQdki-qqf"
   },
   "outputs": [],
   "source": [
    "sports_games=clean_data_file.select(\"sports\").distinct()#It shows the distinct sports in the data set"
   ]
  },
  {
   "cell_type": "code",
   "execution_count": 10,
   "metadata": {
    "colab": {
     "base_uri": "https://localhost:8080/"
    },
    "id": "Z0lW1Goc-qtP",
    "outputId": "331ba8d8-3867-46bc-f578-b824137d4562"
   },
   "outputs": [
    {
     "name": "stdout",
     "output_type": "stream",
     "text": [
      "+-------------------------+\n",
      "|sports                   |\n",
      "+-------------------------+\n",
      "|Gymnastics               |\n",
      "|Tennis                   |\n",
      "|Boxing                   |\n",
      "|Short-Track Speed Skating|\n",
      "|Ice Hockey               |\n",
      "|Rowing                   |\n",
      "|Judo                     |\n",
      "|Softball                 |\n",
      "|Sailing                  |\n",
      "|Swimming                 |\n",
      "|Alpine Skiing            |\n",
      "|Basketball               |\n",
      "|Handball                 |\n",
      "|Rhythmic Gymnastics      |\n",
      "|Biathlon                 |\n",
      "|Triathlon                |\n",
      "|Badminton                |\n",
      "|Athletics                |\n",
      "|Figure Skating           |\n",
      "|Beach Volleyball         |\n",
      "+-------------------------+\n",
      "only showing top 20 rows\n",
      "\n"
     ]
    }
   ],
   "source": [
    "sports_games.show(n=20,truncate=False)"
   ]
  },
  {
   "cell_type": "markdown",
   "metadata": {
    "id": "rEnr3MruHpJF"
   },
   "source": [
    "###**Observation:**"
   ]
  },
  {
   "cell_type": "markdown",
   "metadata": {
    "id": "ex9cDNThHsak"
   },
   "source": [
    "###**It shows the distinct sports in the data set.**"
   ]
  },
  {
   "cell_type": "code",
   "execution_count": 10,
   "metadata": {
    "id": "6g9hTBmc6pH1"
   },
   "outputs": [],
   "source": []
  },
  {
   "cell_type": "code",
   "execution_count": 10,
   "metadata": {
    "id": "2fvngJEU6pBx"
   },
   "outputs": [],
   "source": []
  },
  {
   "cell_type": "markdown",
   "metadata": {
    "id": "ucG54hrz6pmz"
   },
   "source": [
    "###**3)Write PySpark code to plot the total number of medals in  each Olympic Sport/game**\n"
   ]
  },
  {
   "cell_type": "code",
   "execution_count": 11,
   "metadata": {
    "id": "vKSipb6y61-E"
   },
   "outputs": [],
   "source": [
    "from pyspark.sql.functions import * #imporing all functons from pyspark.sql\n",
    "import matplotlib.pyplot as plt # for data visualization\n",
    "medals=clean_data_file.groupBy('sports').agg(sum(\"total_medal\").alias(\"Total_no_of_medals\")).sort(desc(\"Total_no_of_medals\"))\n",
    "#grouped the sports and aggregated the total_medal column and sorted it by descending order"
   ]
  },
  {
   "cell_type": "code",
   "execution_count": 12,
   "metadata": {
    "colab": {
     "base_uri": "https://localhost:8080/",
     "height": 624
    },
    "id": "k4l2tYOx6168",
    "outputId": "8867bc96-8baf-4155-b447-2b0175c4e0f5"
   },
   "outputs": [
    {
     "data": {
      "image/png": "[encoded data removed]",
      "text/plain": [
       "<Figure size 1800x720 with 1 Axes>"
      ]
     },
     "metadata": {
      "needs_background": "light"
     },
     "output_type": "display_data"
    }
   ],
   "source": [
    "x=medals.toPandas()['sports'].values.tolist()#It is converting into pandas of sports column\n",
    "y=medals.toPandas()['Total_no_of_medals'].values.tolist()#It is converting into pandas of Total_no_of_medals column\n",
    "plt.figure(figsize=(25,10))#It returns the figuresize of the plot\n",
    "plt.bar(x,y,color='green')\n",
    "plt.title('The plot shows the total medal of each sport',fontsize=20)\n",
    "plt.xlabel('Sports',fontsize=22)#It shows the label of x-axis \n",
    "plt.xticks(rotation=45)#It rotates x axis to 45 degree\n",
    "plt.ylabel('Total Medals',fontsize=15)#It shows the label of y-axis\n",
    "plt.show()#It shows the plot"
   ]
  },
  {
   "cell_type": "markdown",
   "metadata": {
    "id": "OHaJnX_NMy5w"
   },
   "source": [
    "###**Observation:**"
   ]
  },
  {
   "cell_type": "markdown",
   "metadata": {
    "id": "LDPPh9fuM5wM"
   },
   "source": [
    "###**It shows the top sports based on the medals.**"
   ]
  },
  {
   "cell_type": "code",
   "execution_count": 12,
   "metadata": {
    "id": "PfIJD2B7614K"
   },
   "outputs": [],
   "source": []
  },
  {
   "cell_type": "code",
   "execution_count": 12,
   "metadata": {
    "id": "MnYY6DEO611x"
   },
   "outputs": [],
   "source": []
  },
  {
   "cell_type": "markdown",
   "metadata": {
    "id": "xcgG9vDn7ctW"
   },
   "source": [
    "###**4)Sort the result based on the total number of medals?**"
   ]
  },
  {
   "cell_type": "code",
   "execution_count": 34,
   "metadata": {
    "id": "wCBcUWxs61yf"
   },
   "outputs": [],
   "source": [
    "s=clean_data_file.groupBy('sports').agg(sum(\"total_medal\").alias(\"Total_no_of_medals\")).sort(desc(\"Total_no_of_medals\"))#grouping the sports and summing up the total_medals"
   ]
  },
  {
   "cell_type": "code",
   "execution_count": 35,
   "metadata": {
    "colab": {
     "base_uri": "https://localhost:8080/"
    },
    "id": "nsgr1_em61wG",
    "outputId": "1f99e727-f81f-40d6-e677-d3ea84094689"
   },
   "outputs": [
    {
     "name": "stdout",
     "output_type": "stream",
     "text": [
      "+----------+------------------+\n",
      "|sports    |Total_no_of_medals|\n",
      "+----------+------------------+\n",
      "|Swimming  |765               |\n",
      "|Athletics |753               |\n",
      "|Rowing    |576               |\n",
      "|Football  |407               |\n",
      "|Hockey    |386               |\n",
      "|Ice Hockey|384               |\n",
      "|Handball  |351               |\n",
      "|Canoeing  |333               |\n",
      "|Waterpolo |306               |\n",
      "|Cycling   |306               |\n",
      "|Basketball|287               |\n",
      "|Gymnastics|282               |\n",
      "|Volleyball|278               |\n",
      "|Fencing   |256               |\n",
      "|Wrestling |245               |\n",
      "|Judo      |224               |\n",
      "|Baseball  |216               |\n",
      "|Sailing   |210               |\n",
      "|Shooting  |192               |\n",
      "|Boxing    |188               |\n",
      "+----------+------------------+\n",
      "only showing top 20 rows\n",
      "\n"
     ]
    }
   ],
   "source": [
    "s.show(truncate=False)"
   ]
  },
  {
   "cell_type": "markdown",
   "metadata": {
    "id": "isc0_pYvPgy5"
   },
   "source": [
    "###**Observation:**"
   ]
  },
  {
   "cell_type": "markdown",
   "metadata": {
    "id": "1NvMqKEuPgkE"
   },
   "source": [
    "###**Sorting the result based on the total number of medals and Swimming has toped first in total no of medals.**"
   ]
  },
  {
   "cell_type": "code",
   "execution_count": 14,
   "metadata": {
    "id": "lMk7EakVPzlC"
   },
   "outputs": [],
   "source": []
  },
  {
   "cell_type": "code",
   "execution_count": 14,
   "metadata": {
    "id": "T4wBjhaa61tL"
   },
   "outputs": [],
   "source": []
  },
  {
   "cell_type": "markdown",
   "metadata": {
    "id": "TDdXtAzZ8QZZ"
   },
   "source": [
    "###**5)Find the total number of medals won by each country in swimming**"
   ]
  },
  {
   "cell_type": "code",
   "execution_count": 15,
   "metadata": {
    "id": "rnfhNawM61qf"
   },
   "outputs": [],
   "source": [
    "swim=clean_data_file.filter(\"sports=='Swimming'\")#It's filtering the sports 'Swimming'"
   ]
  },
  {
   "cell_type": "code",
   "execution_count": 16,
   "metadata": {
    "id": "4Kekk8jn-qwB"
   },
   "outputs": [],
   "source": [
    "c=swim.groupby('country').agg(sum(\"total_medal\").alias(\"Total_no_of_medals\")).sort(desc(\"Total_no_of_medals\"))#grouping country and summing all medals and sorted it by Today_no_of_medals"
   ]
  },
  {
   "cell_type": "code",
   "execution_count": 17,
   "metadata": {
    "colab": {
     "base_uri": "https://localhost:8080/"
    },
    "id": "iTu5ZeY0-qyt",
    "outputId": "709a221e-eb4f-4178-d9a8-ca8e89be1014"
   },
   "outputs": [
    {
     "name": "stdout",
     "output_type": "stream",
     "text": [
      "+-------------+------------------+\n",
      "|country      |Total_no_of_medals|\n",
      "+-------------+------------------+\n",
      "|United States|267               |\n",
      "|Australia    |163               |\n",
      "|Netherlands  |46                |\n",
      "|Japan        |43                |\n",
      "|France       |39                |\n",
      "|China        |35                |\n",
      "|Germany      |32                |\n",
      "|Russia       |20                |\n",
      "|Italy        |16                |\n",
      "|Great Britain|11                |\n",
      "|South Africa |11                |\n",
      "|Sweden       |9                 |\n",
      "|Hungary      |9                 |\n",
      "|Brazil       |8                 |\n",
      "|Ukraine      |7                 |\n",
      "|Zimbabwe     |7                 |\n",
      "|Romania      |6                 |\n",
      "|Canada       |5                 |\n",
      "|South Korea  |4                 |\n",
      "|Spain        |3                 |\n",
      "+-------------+------------------+\n",
      "only showing top 20 rows\n",
      "\n"
     ]
    }
   ],
   "source": [
    "c.show(truncate=False)"
   ]
  },
  {
   "cell_type": "markdown",
   "metadata": {
    "id": "WilsNjQ2RAV8"
   },
   "source": [
    "###**Observation:**"
   ]
  },
  {
   "cell_type": "markdown",
   "metadata": {
    "id": "sD0EalQmRAR8"
   },
   "source": [
    "###**The total number of medals won by each country in swimming is shown above.**"
   ]
  },
  {
   "cell_type": "code",
   "execution_count": 17,
   "metadata": {
    "id": "cKa-eMq1RdXj"
   },
   "outputs": [],
   "source": []
  },
  {
   "cell_type": "code",
   "execution_count": 17,
   "metadata": {
    "id": "dNmUcUvaRdT-"
   },
   "outputs": [],
   "source": []
  },
  {
   "cell_type": "code",
   "execution_count": 17,
   "metadata": {
    "id": "dPSQ1sPeEas5"
   },
   "outputs": [],
   "source": []
  },
  {
   "cell_type": "markdown",
   "metadata": {
    "id": "c4UEFja580AY"
   },
   "source": [
    "###**6)Find the total number of medals won by each country in Skeleton.**"
   ]
  },
  {
   "cell_type": "code",
   "execution_count": 18,
   "metadata": {
    "id": "Dk8yyn0jEawJ"
   },
   "outputs": [],
   "source": [
    "skel=clean_data_file.filter(\"sports=='Skeleton'\")#It's filtering the sports 'Skeleton'"
   ]
  },
  {
   "cell_type": "code",
   "execution_count": 19,
   "metadata": {
    "id": "psznbX2kEazZ"
   },
   "outputs": [],
   "source": [
    "c=skel.groupby('country').agg(sum(\"total_medal\").alias(\"Today_no_of_medals\")).sort('Today_no_of_medals')#grouping country and summing all medals and sorted it by Today_no_of_medals"
   ]
  },
  {
   "cell_type": "code",
   "execution_count": 20,
   "metadata": {
    "colab": {
     "base_uri": "https://localhost:8080/"
    },
    "id": "HNDUCmdREa2A",
    "outputId": "f2045d95-47a2-4733-8b24-292a0d8cd2ca"
   },
   "outputs": [
    {
     "name": "stdout",
     "output_type": "stream",
     "text": [
      "+-------------+------------------+\n",
      "|country      |Today_no_of_medals|\n",
      "+-------------+------------------+\n",
      "|Russia       |1                 |\n",
      "|Austria      |1                 |\n",
      "|Latvia       |1                 |\n",
      "|Germany      |2                 |\n",
      "|Great Britain|3                 |\n",
      "|United States|3                 |\n",
      "|Switzerland  |3                 |\n",
      "|Canada       |4                 |\n",
      "+-------------+------------------+\n",
      "\n"
     ]
    }
   ],
   "source": [
    "c.show(truncate=False)#It shows all country sports of skeleton with all medals"
   ]
  },
  {
   "cell_type": "markdown",
   "metadata": {
    "id": "O3CnSN4lEaeY"
   },
   "source": [
    "###**Observation:**"
   ]
  },
  {
   "cell_type": "markdown",
   "metadata": {
    "id": "7dD5ygwCEfAg"
   },
   "source": [
    "###**The total number of medals won by each country in Skeleton is show above.**"
   ]
  },
  {
   "cell_type": "code",
   "execution_count": 20,
   "metadata": {
    "id": "D5eqXv-VEZoh"
   },
   "outputs": [],
   "source": []
  },
  {
   "cell_type": "code",
   "execution_count": 20,
   "metadata": {
    "id": "oz3OOxgXEa4y"
   },
   "outputs": [],
   "source": []
  },
  {
   "cell_type": "code",
   "execution_count": 20,
   "metadata": {
    "id": "knZ24Zya9C5Q"
   },
   "outputs": [],
   "source": []
  },
  {
   "cell_type": "markdown",
   "metadata": {
    "id": "iWBgr9a59Dc6"
   },
   "source": [
    "###**7)Find the number of medals that the US won yearly.**"
   ]
  },
  {
   "cell_type": "code",
   "execution_count": 21,
   "metadata": {
    "id": "0DnZQqtO9C8Y"
   },
   "outputs": [],
   "source": [
    "united=clean_data_file.filter(\"country=='United States'\")#It's filtering the country United States"
   ]
  },
  {
   "cell_type": "code",
   "execution_count": 22,
   "metadata": {
    "id": "_C3aqk519C_I"
   },
   "outputs": [],
   "source": [
    "c=united.groupby('year').agg(sum(\"total_medal\").alias(\"Total_no_of_medals\")).sort('year')#grouping year and summing all medals and sorted it by year"
   ]
  },
  {
   "cell_type": "code",
   "execution_count": 23,
   "metadata": {
    "colab": {
     "base_uri": "https://localhost:8080/"
    },
    "id": "UivjCJs_9DB4",
    "outputId": "613a32dc-830a-4ad8-ad5a-2a3e5c951643"
   },
   "outputs": [
    {
     "name": "stdout",
     "output_type": "stream",
     "text": [
      "+----+------------------+\n",
      "|year|Total_no_of_medals|\n",
      "+----+------------------+\n",
      "|2000|243               |\n",
      "|2002|84                |\n",
      "|2004|265               |\n",
      "|2006|52                |\n",
      "|2008|317               |\n",
      "|2010|97                |\n",
      "|2012|254               |\n",
      "+----+------------------+\n",
      "\n"
     ]
    }
   ],
   "source": [
    "c.show(truncate=False)#It shows the yearly medals of united states"
   ]
  },
  {
   "cell_type": "markdown",
   "metadata": {
    "id": "MZ-39OWECPxu"
   },
   "source": [
    "###**Observation:**"
   ]
  },
  {
   "cell_type": "markdown",
   "metadata": {
    "id": "vC0QXb0YCT5-"
   },
   "source": [
    "###**The number of medals that the US won yearly is shown above.**"
   ]
  },
  {
   "cell_type": "code",
   "execution_count": 23,
   "metadata": {
    "id": "CM2esWXo9DE1"
   },
   "outputs": [],
   "source": []
  },
  {
   "cell_type": "code",
   "execution_count": 23,
   "metadata": {
    "id": "xWDWUpj59DG2"
   },
   "outputs": [],
   "source": []
  },
  {
   "cell_type": "markdown",
   "metadata": {
    "id": "EvJwn3Uo9Q3Z"
   },
   "source": [
    "###**8)Find the total number of medals won by each country.**\n"
   ]
  },
  {
   "cell_type": "code",
   "execution_count": 24,
   "metadata": {
    "id": "-NsmrJoXEa7a"
   },
   "outputs": [],
   "source": [
    "coun=clean_data_file.groupby('country').agg(sum(\"total_medal\").alias(\"Total_no_of_medals\"))#grouping the country and summing up the total medal"
   ]
  },
  {
   "cell_type": "code",
   "execution_count": 25,
   "metadata": {
    "colab": {
     "base_uri": "https://localhost:8080/"
    },
    "id": "ERqJYDJD9Xd7",
    "outputId": "ed5abec7-161d-4bfb-87cc-2f7ea776aaf6"
   },
   "outputs": [
    {
     "name": "stdout",
     "output_type": "stream",
     "text": [
      "+--------------+------------------+\n",
      "|country       |Total_no_of_medals|\n",
      "+--------------+------------------+\n",
      "|Russia        |768               |\n",
      "|Paraguay      |17                |\n",
      "|Chinese Taipei|20                |\n",
      "|Sweden        |181               |\n",
      "|Eritrea       |1                 |\n",
      "|Singapore     |7                 |\n",
      "|Malaysia      |3                 |\n",
      "|Turkey        |28                |\n",
      "|Germany       |629               |\n",
      "|Afghanistan   |2                 |\n",
      "|Sudan         |1                 |\n",
      "|France        |318               |\n",
      "|Greece        |59                |\n",
      "|Sri Lanka     |1                 |\n",
      "|Algeria       |8                 |\n",
      "|Togo          |1                 |\n",
      "|Slovakia      |35                |\n",
      "|Argentina     |139               |\n",
      "|Belgium       |18                |\n",
      "|Great Britain |322               |\n",
      "+--------------+------------------+\n",
      "only showing top 20 rows\n",
      "\n"
     ]
    }
   ],
   "source": [
    "coun.show(n=20,truncate=False)#It shows the country along with total medals"
   ]
  },
  {
   "cell_type": "markdown",
   "metadata": {
    "id": "Q5hfrfm_9Qcn"
   },
   "source": [
    "###**Observation:**"
   ]
  },
  {
   "cell_type": "markdown",
   "metadata": {
    "id": "3_2CVkDt_yBP"
   },
   "source": [
    "###**The Russia has highest number of medals of 768.**"
   ]
  },
  {
   "cell_type": "code",
   "execution_count": 25,
   "metadata": {
    "id": "8cUvEn409QLH"
   },
   "outputs": [],
   "source": []
  },
  {
   "cell_type": "code",
   "execution_count": 25,
   "metadata": {
    "id": "uNQpmDnY9XhJ"
   },
   "outputs": [],
   "source": []
  },
  {
   "cell_type": "markdown",
   "metadata": {
    "id": "3EzLi0XZ9bU0"
   },
   "source": [
    "###**9)Who was the oldest athlete in the olympics?**"
   ]
  },
  {
   "cell_type": "code",
   "execution_count": 26,
   "metadata": {
    "id": "rCVpawQN9Xj6"
   },
   "outputs": [],
   "source": [
    "max=clean_data_file.agg({\"age\":\"max\"})#finding the maximum value of the age"
   ]
  },
  {
   "cell_type": "code",
   "execution_count": 27,
   "metadata": {
    "colab": {
     "base_uri": "https://localhost:8080/"
    },
    "id": "2oCo2vNnY0px",
    "outputId": "183e21fd-963a-4fc2-86d3-22590ea81518"
   },
   "outputs": [
    {
     "name": "stdout",
     "output_type": "stream",
     "text": [
      "+--------+\n",
      "|max(age)|\n",
      "+--------+\n",
      "|61.0    |\n",
      "+--------+\n",
      "\n"
     ]
    }
   ],
   "source": [
    "max.show(n=1,truncate=False)#The maximum age is 61"
   ]
  },
  {
   "cell_type": "code",
   "execution_count": 28,
   "metadata": {
    "id": "aCaFWha79Xmr"
   },
   "outputs": [],
   "source": [
    "name_of_the_athlete=clean_data_file.select(\"name\").filter(clean_data_file['age']==61.0)#finding the name of the athlete"
   ]
  },
  {
   "cell_type": "code",
   "execution_count": 29,
   "metadata": {
    "colab": {
     "base_uri": "https://localhost:8080/"
    },
    "id": "HsKBeI_P9XpH",
    "outputId": "18e115e4-5f53-4378-962d-b229742c78f7"
   },
   "outputs": [
    {
     "name": "stdout",
     "output_type": "stream",
     "text": [
      "+----------+\n",
      "|      name|\n",
      "+----------+\n",
      "|Ian Millar|\n",
      "+----------+\n",
      "\n"
     ]
    }
   ],
   "source": [
    "name_of_the_athlete.show(n=1)#It shows the name of athlete"
   ]
  },
  {
   "cell_type": "markdown",
   "metadata": {
    "id": "32MghYrV8h7h"
   },
   "source": [
    "###**Obsevation:**"
   ]
  },
  {
   "cell_type": "markdown",
   "metadata": {
    "id": "_O9ozke08p3c"
   },
   "source": [
    "###**The name of the athlete is Ian Millar.**"
   ]
  },
  {
   "cell_type": "code",
   "execution_count": 29,
   "metadata": {
    "id": "ZDC6C3uG9y7C"
   },
   "outputs": [],
   "source": []
  },
  {
   "cell_type": "code",
   "execution_count": 29,
   "metadata": {
    "id": "lk9Iw1hN8hg1"
   },
   "outputs": [],
   "source": []
  },
  {
   "cell_type": "markdown",
   "metadata": {
    "id": "ltm4Laoe9zWt"
   },
   "source": [
    "###**10)Which country was he/she from?**\n"
   ]
  },
  {
   "cell_type": "code",
   "execution_count": 30,
   "metadata": {
    "id": "2BdVCrrD9y95"
   },
   "outputs": [],
   "source": [
    "max=clean_data_file.agg({\"age\":\"max\"})#finding the maximum value of the age"
   ]
  },
  {
   "cell_type": "code",
   "execution_count": 31,
   "metadata": {
    "colab": {
     "base_uri": "https://localhost:8080/"
    },
    "id": "HEEu1mP2gwpG",
    "outputId": "346b0953-8e82-45d2-ef27-589712c3587f"
   },
   "outputs": [
    {
     "name": "stdout",
     "output_type": "stream",
     "text": [
      "+--------+\n",
      "|max(age)|\n",
      "+--------+\n",
      "|61.0    |\n",
      "+--------+\n",
      "\n"
     ]
    }
   ],
   "source": [
    "max.show(n=1,truncate=False)#The maximum age is 61"
   ]
  },
  {
   "cell_type": "code",
   "execution_count": 32,
   "metadata": {
    "id": "NbK73srz9zBA"
   },
   "outputs": [],
   "source": [
    "country_name=clean_data_file.select(\"country\").filter(clean_data_file['age']==61.0)#finding the country of the athlete"
   ]
  },
  {
   "cell_type": "code",
   "execution_count": 33,
   "metadata": {
    "colab": {
     "base_uri": "https://localhost:8080/"
    },
    "id": "ajCLcP529zDb",
    "outputId": "aa9c4d98-77f0-42a4-85d0-5f46e6699e35"
   },
   "outputs": [
    {
     "name": "stdout",
     "output_type": "stream",
     "text": [
      "+-------+\n",
      "|country|\n",
      "+-------+\n",
      "|Canada |\n",
      "+-------+\n",
      "\n"
     ]
    }
   ],
   "source": [
    "country_name.show(n=1,truncate=False)#It shows the country of athlete"
   ]
  },
  {
   "cell_type": "markdown",
   "metadata": {
    "id": "hFWXwFgEqBhZ"
   },
   "source": [
    "###**Observation:**"
   ]
  },
  {
   "cell_type": "markdown",
   "metadata": {
    "id": "NCsm0mW_qWYu"
   },
   "source": [
    "###T**he athlete is from the country Canada**."
   ]
  },
  {
   "cell_type": "code",
   "execution_count": 33,
   "metadata": {
    "id": "4le2kAG-RkbD"
   },
   "outputs": [],
   "source": []
  },
  {
   "cell_type": "code",
   "execution_count": 33,
   "metadata": {
    "id": "rm2Kzn3_RkXS"
   },
   "outputs": [],
   "source": []
  },
  {
   "cell_type": "code",
   "execution_count": 33,
   "metadata": {
    "id": "J9MHmHaLyUhu"
   },
   "outputs": [],
   "source": []
  }
 ],
 "metadata": {
  "colab": {
   "collapsed_sections": [],
   "name": "syed_farheen_pyspark_capson_project.ipynb",
   "provenance": []
  },
  "kernelspec": {
   "display_name": "Python 3 (ipykernel)",
   "language": "python",
   "name": "python3"
  },
  "language_info": {
   "codemirror_mode": {
    "name": "ipython",
    "version": 3
   },
   "file_extension": ".py",
   "mimetype": "text/x-python",
   "name": "python",
   "nbconvert_exporter": "python",
   "pygments_lexer": "ipython3",
   "version": "3.9.12"
  }
 },
 "nbformat": 4,
 "nbformat_minor": 1
}

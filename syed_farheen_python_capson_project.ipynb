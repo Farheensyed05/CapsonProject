{
 "cells": [
  {
   "cell_type": "markdown",
   "id": "uUKcyE0FpX0Y",
   "metadata": {
    "id": "uUKcyE0FpX0Y"
   },
   "source": [
    "# Olympics Data Analysis Using  Python"
   ]
  },
  {
   "cell_type": "markdown",
   "id": "541be2b1",
   "metadata": {},
   "source": [
    "## Introduction:"
   ]
  },
  {
   "cell_type": "markdown",
   "id": "8f16fce1",
   "metadata": {
    "id": "RMJpJpcyqPo9"
   },
   "source": [
    "### The Olympic Games are normally held every four years, alternating between the Summer and Winter Olympics every two years in the four-year period."
   ]
  },
  {
   "cell_type": "markdown",
   "id": "5a203595",
   "metadata": {},
   "source": [
    "### The Given Data Set is having information from 2000 to 2012(Summer and Winter Olympics Data)."
   ]
  },
  {
   "cell_type": "markdown",
   "id": "22a318b6",
   "metadata": {},
   "source": [
    "### It has information about all types of Sports and Conducted year,Country Athletic Names who participated in the Olympics and different medals won by each Athletic from different countries.For every events there are winners. Therefore various data is generated."
   ]
  },
  {
   "cell_type": "markdown",
   "id": "26a20848",
   "metadata": {},
   "source": [
    "### Modules Used\n",
    "\n",
    "* **Pandas**\n",
    "\n",
    "* **NumPy**\n",
    "\n",
    "* **Matplotlib**\n",
    "\n",
    "* **seaborn**"
   ]
  },
  {
   "cell_type": "markdown",
   "id": "dbe00b89",
   "metadata": {},
   "source": [
    "### Importing libraries"
   ]
  },
  {
   "cell_type": "code",
   "execution_count": 1,
   "id": "b0606d4b",
   "metadata": {
    "id": "b0606d4b"
   },
   "outputs": [],
   "source": [
    "# importing all necessary libraries\n",
    "import pandas as pd#It is used for analyzing the data\n",
    "import numpy as np#NumPy is a general-purpose array-processing package\n",
    "import matplotlib.pyplot as plt#It is a numerical mathematics extension NumPy\n",
    "import seaborn as sns#It is used for visualization statistical graphics plotting in Python"
   ]
  },
  {
   "cell_type": "markdown",
   "id": "2Hg8IVBGv1tR",
   "metadata": {
    "id": "2Hg8IVBGv1tR"
   },
   "source": [
    "## 1) Please do the basic exploration of the data. Remember the dataset contains information from different years. So whatever steps you perform should make logical sense."
   ]
  },
  {
   "cell_type": "markdown",
   "id": "0bbf09bd",
   "metadata": {},
   "source": [
    "### Data cleaning and formatting"
   ]
  },
  {
   "cell_type": "code",
   "execution_count": 2,
   "id": "942aa055",
   "metadata": {
    "id": "942aa055"
   },
   "outputs": [],
   "source": [
    "raw_data=pd.read_csv('olympics_data.csv') #reading the file"
   ]
  },
  {
   "cell_type": "code",
   "execution_count": 3,
   "id": "ae8f645d",
   "metadata": {
    "colab": {
     "base_uri": "https://localhost:8080/",
     "height": 206
    },
    "id": "ae8f645d",
    "outputId": "8dcb63df-26c8-4adb-e27e-bc1c9ee7e63d"
   },
   "outputs": [
    {
     "data": {
      "text/html": [
       "<div>\n",
       "<style scoped>\n",
       "    .dataframe tbody tr th:only-of-type {\n",
       "        vertical-align: middle;\n",
       "    }\n",
       "\n",
       "    .dataframe tbody tr th {\n",
       "        vertical-align: top;\n",
       "    }\n",
       "\n",
       "    .dataframe thead th {\n",
       "        text-align: right;\n",
       "    }\n",
       "</style>\n",
       "<table border=\"1\" class=\"dataframe\">\n",
       "  <thead>\n",
       "    <tr style=\"text-align: right;\">\n",
       "      <th></th>\n",
       "      <th>name</th>\n",
       "      <th>age</th>\n",
       "      <th>country</th>\n",
       "      <th>year</th>\n",
       "      <th>Date_Given</th>\n",
       "      <th>sports</th>\n",
       "      <th>gold_medal</th>\n",
       "      <th>silver_medal</th>\n",
       "      <th>brone_medal</th>\n",
       "      <th>total_medal</th>\n",
       "    </tr>\n",
       "  </thead>\n",
       "  <tbody>\n",
       "    <tr>\n",
       "      <th>0</th>\n",
       "      <td>Michael Phelps</td>\n",
       "      <td>23.0</td>\n",
       "      <td>United States</td>\n",
       "      <td>2008</td>\n",
       "      <td>8/24/2008</td>\n",
       "      <td>Swimming</td>\n",
       "      <td>8</td>\n",
       "      <td>0</td>\n",
       "      <td>0</td>\n",
       "      <td>8</td>\n",
       "    </tr>\n",
       "    <tr>\n",
       "      <th>1</th>\n",
       "      <td>Michael Phelps</td>\n",
       "      <td>19.0</td>\n",
       "      <td>United States</td>\n",
       "      <td>2004</td>\n",
       "      <td>8/29/2004</td>\n",
       "      <td>Swimming</td>\n",
       "      <td>6</td>\n",
       "      <td>0</td>\n",
       "      <td>2</td>\n",
       "      <td>8</td>\n",
       "    </tr>\n",
       "    <tr>\n",
       "      <th>2</th>\n",
       "      <td>Michael Phelps</td>\n",
       "      <td>27.0</td>\n",
       "      <td>United States</td>\n",
       "      <td>2012</td>\n",
       "      <td>08-12-2012</td>\n",
       "      <td>Swimming</td>\n",
       "      <td>4</td>\n",
       "      <td>2</td>\n",
       "      <td>0</td>\n",
       "      <td>6</td>\n",
       "    </tr>\n",
       "    <tr>\n",
       "      <th>3</th>\n",
       "      <td>Natalie Coughlin</td>\n",
       "      <td>25.0</td>\n",
       "      <td>United States</td>\n",
       "      <td>2008</td>\n",
       "      <td>8/24/2008</td>\n",
       "      <td>Swimming</td>\n",
       "      <td>1</td>\n",
       "      <td>2</td>\n",
       "      <td>3</td>\n",
       "      <td>6</td>\n",
       "    </tr>\n",
       "    <tr>\n",
       "      <th>4</th>\n",
       "      <td>Aleksey Nemov</td>\n",
       "      <td>24.0</td>\n",
       "      <td>Russia</td>\n",
       "      <td>2000</td>\n",
       "      <td>10-01-2000</td>\n",
       "      <td>Gymnastics</td>\n",
       "      <td>2</td>\n",
       "      <td>1</td>\n",
       "      <td>3</td>\n",
       "      <td>6</td>\n",
       "    </tr>\n",
       "  </tbody>\n",
       "</table>\n",
       "</div>"
      ],
      "text/plain": [
       "               name   age        country  year  Date_Given      sports  \\\n",
       "0    Michael Phelps  23.0  United States  2008   8/24/2008    Swimming   \n",
       "1    Michael Phelps  19.0  United States  2004   8/29/2004    Swimming   \n",
       "2    Michael Phelps  27.0  United States  2012  08-12-2012    Swimming   \n",
       "3  Natalie Coughlin  25.0  United States  2008   8/24/2008    Swimming   \n",
       "4     Aleksey Nemov  24.0         Russia  2000  10-01-2000  Gymnastics   \n",
       "\n",
       "   gold_medal  silver_medal  brone_medal  total_medal  \n",
       "0           8             0            0            8  \n",
       "1           6             0            2            8  \n",
       "2           4             2            0            6  \n",
       "3           1             2            3            6  \n",
       "4           2             1            3            6  "
      ]
     },
     "execution_count": 3,
     "metadata": {},
     "output_type": "execute_result"
    }
   ],
   "source": [
    "raw_data.head(5)#displays first 5 rows"
   ]
  },
  {
   "cell_type": "code",
   "execution_count": 4,
   "id": "57c0cddd",
   "metadata": {},
   "outputs": [
    {
     "data": {
      "text/html": [
       "<div>\n",
       "<style scoped>\n",
       "    .dataframe tbody tr th:only-of-type {\n",
       "        vertical-align: middle;\n",
       "    }\n",
       "\n",
       "    .dataframe tbody tr th {\n",
       "        vertical-align: top;\n",
       "    }\n",
       "\n",
       "    .dataframe thead th {\n",
       "        text-align: right;\n",
       "    }\n",
       "</style>\n",
       "<table border=\"1\" class=\"dataframe\">\n",
       "  <thead>\n",
       "    <tr style=\"text-align: right;\">\n",
       "      <th></th>\n",
       "      <th>name</th>\n",
       "      <th>age</th>\n",
       "      <th>country</th>\n",
       "      <th>year</th>\n",
       "      <th>Date_Given</th>\n",
       "      <th>sports</th>\n",
       "      <th>gold_medal</th>\n",
       "      <th>silver_medal</th>\n",
       "      <th>brone_medal</th>\n",
       "      <th>total_medal</th>\n",
       "    </tr>\n",
       "  </thead>\n",
       "  <tbody>\n",
       "    <tr>\n",
       "      <th>8613</th>\n",
       "      <td>Olena Sadovnycha</td>\n",
       "      <td>32.0</td>\n",
       "      <td>Ukraine</td>\n",
       "      <td>2000</td>\n",
       "      <td>10-01-2000</td>\n",
       "      <td>Archery</td>\n",
       "      <td>0</td>\n",
       "      <td>1</td>\n",
       "      <td>0</td>\n",
       "      <td>1</td>\n",
       "    </tr>\n",
       "    <tr>\n",
       "      <th>8614</th>\n",
       "      <td>Kateryna Serdiuk</td>\n",
       "      <td>17.0</td>\n",
       "      <td>Ukraine</td>\n",
       "      <td>2000</td>\n",
       "      <td>10-01-2000</td>\n",
       "      <td>Archery</td>\n",
       "      <td>0</td>\n",
       "      <td>1</td>\n",
       "      <td>0</td>\n",
       "      <td>1</td>\n",
       "    </tr>\n",
       "    <tr>\n",
       "      <th>8615</th>\n",
       "      <td>Wietse van Alten</td>\n",
       "      <td>21.0</td>\n",
       "      <td>Netherlands</td>\n",
       "      <td>2000</td>\n",
       "      <td>10-01-2000</td>\n",
       "      <td>Archery</td>\n",
       "      <td>0</td>\n",
       "      <td>0</td>\n",
       "      <td>1</td>\n",
       "      <td>1</td>\n",
       "    </tr>\n",
       "    <tr>\n",
       "      <th>8616</th>\n",
       "      <td>Sandra Wagner-Sachse</td>\n",
       "      <td>31.0</td>\n",
       "      <td>Germany</td>\n",
       "      <td>2000</td>\n",
       "      <td>10-01-2000</td>\n",
       "      <td>Archery</td>\n",
       "      <td>0</td>\n",
       "      <td>0</td>\n",
       "      <td>1</td>\n",
       "      <td>1</td>\n",
       "    </tr>\n",
       "    <tr>\n",
       "      <th>8617</th>\n",
       "      <td>Rod White</td>\n",
       "      <td>23.0</td>\n",
       "      <td>United States</td>\n",
       "      <td>2000</td>\n",
       "      <td>10-01-2000</td>\n",
       "      <td>Archery</td>\n",
       "      <td>0</td>\n",
       "      <td>0</td>\n",
       "      <td>1</td>\n",
       "      <td>1</td>\n",
       "    </tr>\n",
       "  </tbody>\n",
       "</table>\n",
       "</div>"
      ],
      "text/plain": [
       "                      name   age        country  year  Date_Given   sports  \\\n",
       "8613      Olena Sadovnycha  32.0        Ukraine  2000  10-01-2000  Archery   \n",
       "8614      Kateryna Serdiuk  17.0        Ukraine  2000  10-01-2000  Archery   \n",
       "8615      Wietse van Alten  21.0    Netherlands  2000  10-01-2000  Archery   \n",
       "8616  Sandra Wagner-Sachse  31.0        Germany  2000  10-01-2000  Archery   \n",
       "8617             Rod White  23.0  United States  2000  10-01-2000  Archery   \n",
       "\n",
       "      gold_medal  silver_medal  brone_medal  total_medal  \n",
       "8613           0             1            0            1  \n",
       "8614           0             1            0            1  \n",
       "8615           0             0            1            1  \n",
       "8616           0             0            1            1  \n",
       "8617           0             0            1            1  "
      ]
     },
     "execution_count": 4,
     "metadata": {},
     "output_type": "execute_result"
    }
   ],
   "source": [
    "raw_data.tail(5)#displays last 5 rows"
   ]
  },
  {
   "cell_type": "code",
   "execution_count": 5,
   "id": "09b7a6a2",
   "metadata": {
    "colab": {
     "base_uri": "https://localhost:8080/"
    },
    "id": "09b7a6a2",
    "outputId": "7f03e3a3-f314-4623-ee4d-56eeabebb5ef"
   },
   "outputs": [
    {
     "data": {
      "text/plain": [
       "(8618, 10)"
      ]
     },
     "execution_count": 5,
     "metadata": {},
     "output_type": "execute_result"
    }
   ],
   "source": [
    "raw_data.shape#It shows the rows(8618) and columns(10) "
   ]
  },
  {
   "cell_type": "code",
   "execution_count": 6,
   "id": "cd578721",
   "metadata": {
    "colab": {
     "base_uri": "https://localhost:8080/"
    },
    "id": "cd578721",
    "outputId": "939b914b-dfc7-4779-de3a-8268ab0ee2d7"
   },
   "outputs": [
    {
     "name": "stdout",
     "output_type": "stream",
     "text": [
      "<class 'pandas.core.frame.DataFrame'>\n",
      "RangeIndex: 8618 entries, 0 to 8617\n",
      "Data columns (total 10 columns):\n",
      " #   Column        Non-Null Count  Dtype  \n",
      "---  ------        --------------  -----  \n",
      " 0   name          8613 non-null   object \n",
      " 1   age           8613 non-null   float64\n",
      " 2   country       8618 non-null   object \n",
      " 3   year          8618 non-null   int64  \n",
      " 4   Date_Given    8618 non-null   object \n",
      " 5   sports        8618 non-null   object \n",
      " 6   gold_medal    8618 non-null   int64  \n",
      " 7   silver_medal  8618 non-null   int64  \n",
      " 8   brone_medal   8618 non-null   int64  \n",
      " 9   total_medal   8618 non-null   int64  \n",
      "dtypes: float64(1), int64(5), object(4)\n",
      "memory usage: 673.4+ KB\n"
     ]
    }
   ],
   "source": [
    "raw_data.info()#gives information about data"
   ]
  },
  {
   "cell_type": "markdown",
   "id": "45999377",
   "metadata": {},
   "source": [
    "### Observation:"
   ]
  },
  {
   "cell_type": "markdown",
   "id": "318d27f3",
   "metadata": {},
   "source": [
    "### From this I Observed that the Column  Data_Given is not in a  date format and it is in object format."
   ]
  },
  {
   "cell_type": "code",
   "execution_count": 7,
   "id": "7a3f51b5",
   "metadata": {
    "id": "7a3f51b5"
   },
   "outputs": [],
   "source": [
    "raw_data['Date_Given'] = pd.to_datetime(raw_data['Date_Given'])#It converts object datatype into date fromat"
   ]
  },
  {
   "cell_type": "code",
   "execution_count": 8,
   "id": "1f2bb826",
   "metadata": {},
   "outputs": [
    {
     "name": "stdout",
     "output_type": "stream",
     "text": [
      "<class 'pandas.core.frame.DataFrame'>\n",
      "RangeIndex: 8618 entries, 0 to 8617\n",
      "Data columns (total 10 columns):\n",
      " #   Column        Non-Null Count  Dtype         \n",
      "---  ------        --------------  -----         \n",
      " 0   name          8613 non-null   object        \n",
      " 1   age           8613 non-null   float64       \n",
      " 2   country       8618 non-null   object        \n",
      " 3   year          8618 non-null   int64         \n",
      " 4   Date_Given    8618 non-null   datetime64[ns]\n",
      " 5   sports        8618 non-null   object        \n",
      " 6   gold_medal    8618 non-null   int64         \n",
      " 7   silver_medal  8618 non-null   int64         \n",
      " 8   brone_medal   8618 non-null   int64         \n",
      " 9   total_medal   8618 non-null   int64         \n",
      "dtypes: datetime64[ns](1), float64(1), int64(5), object(3)\n",
      "memory usage: 673.4+ KB\n"
     ]
    }
   ],
   "source": [
    "raw_data.info()#It shows the information after changing the data type of column Data_Given"
   ]
  },
  {
   "cell_type": "markdown",
   "id": "19d94de7",
   "metadata": {},
   "source": [
    "## 2) Duplicates in the dataset introduces bias in the study. Please check and perform appropriate steps."
   ]
  },
  {
   "cell_type": "code",
   "execution_count": 9,
   "id": "fc5e3196",
   "metadata": {},
   "outputs": [],
   "source": [
    "duplicate = raw_data[raw_data.duplicated()]#It finds out the duplicates from the data"
   ]
  },
  {
   "cell_type": "code",
   "execution_count": 10,
   "id": "d83ad2b6",
   "metadata": {},
   "outputs": [
    {
     "name": "stdout",
     "output_type": "stream",
     "text": [
      "Duplicate Rows :      name  age    country  year Date_Given      sports  gold_medal  \\\n",
      "1429  NaN  NaN     Brazil  2012 2012-08-12  Volleyball           0   \n",
      "1430  NaN  NaN     Brazil  2012 2012-08-12  Volleyball           0   \n",
      "4486  NaN  NaN  Argentina  2012 2012-08-12      Hockey           0   \n",
      "\n",
      "      silver_medal  brone_medal  total_medal  \n",
      "1429             1            0            1  \n",
      "1430             1            0            1  \n",
      "4486             1            0            1  \n"
     ]
    }
   ],
   "source": [
    "print(\"Duplicate Rows :\",duplicate)#It prints the duplicates"
   ]
  },
  {
   "cell_type": "markdown",
   "id": "c8a1d5a1",
   "metadata": {},
   "source": [
    "### Observation:"
   ]
  },
  {
   "cell_type": "markdown",
   "id": "311afba1",
   "metadata": {},
   "source": [
    "### From this i observed that there are 3 duplicates in the data set."
   ]
  },
  {
   "cell_type": "code",
   "execution_count": 11,
   "id": "1c0e6a24",
   "metadata": {
    "id": "1c0e6a24"
   },
   "outputs": [],
   "source": [
    "raw_data.drop_duplicates(inplace=True)#It removes the duplicate values"
   ]
  },
  {
   "cell_type": "code",
   "execution_count": 12,
   "id": "d8cea19d",
   "metadata": {},
   "outputs": [
    {
     "data": {
      "text/html": [
       "<div>\n",
       "<style scoped>\n",
       "    .dataframe tbody tr th:only-of-type {\n",
       "        vertical-align: middle;\n",
       "    }\n",
       "\n",
       "    .dataframe tbody tr th {\n",
       "        vertical-align: top;\n",
       "    }\n",
       "\n",
       "    .dataframe thead th {\n",
       "        text-align: right;\n",
       "    }\n",
       "</style>\n",
       "<table border=\"1\" class=\"dataframe\">\n",
       "  <thead>\n",
       "    <tr style=\"text-align: right;\">\n",
       "      <th></th>\n",
       "      <th>name</th>\n",
       "      <th>age</th>\n",
       "      <th>country</th>\n",
       "      <th>year</th>\n",
       "      <th>Date_Given</th>\n",
       "      <th>sports</th>\n",
       "      <th>gold_medal</th>\n",
       "      <th>silver_medal</th>\n",
       "      <th>brone_medal</th>\n",
       "      <th>total_medal</th>\n",
       "    </tr>\n",
       "  </thead>\n",
       "  <tbody>\n",
       "    <tr>\n",
       "      <th>0</th>\n",
       "      <td>Michael Phelps</td>\n",
       "      <td>23.0</td>\n",
       "      <td>United States</td>\n",
       "      <td>2008</td>\n",
       "      <td>2008-08-24</td>\n",
       "      <td>Swimming</td>\n",
       "      <td>8</td>\n",
       "      <td>0</td>\n",
       "      <td>0</td>\n",
       "      <td>8</td>\n",
       "    </tr>\n",
       "    <tr>\n",
       "      <th>1</th>\n",
       "      <td>Michael Phelps</td>\n",
       "      <td>19.0</td>\n",
       "      <td>United States</td>\n",
       "      <td>2004</td>\n",
       "      <td>2004-08-29</td>\n",
       "      <td>Swimming</td>\n",
       "      <td>6</td>\n",
       "      <td>0</td>\n",
       "      <td>2</td>\n",
       "      <td>8</td>\n",
       "    </tr>\n",
       "    <tr>\n",
       "      <th>2</th>\n",
       "      <td>Michael Phelps</td>\n",
       "      <td>27.0</td>\n",
       "      <td>United States</td>\n",
       "      <td>2012</td>\n",
       "      <td>2012-08-12</td>\n",
       "      <td>Swimming</td>\n",
       "      <td>4</td>\n",
       "      <td>2</td>\n",
       "      <td>0</td>\n",
       "      <td>6</td>\n",
       "    </tr>\n",
       "    <tr>\n",
       "      <th>3</th>\n",
       "      <td>Natalie Coughlin</td>\n",
       "      <td>25.0</td>\n",
       "      <td>United States</td>\n",
       "      <td>2008</td>\n",
       "      <td>2008-08-24</td>\n",
       "      <td>Swimming</td>\n",
       "      <td>1</td>\n",
       "      <td>2</td>\n",
       "      <td>3</td>\n",
       "      <td>6</td>\n",
       "    </tr>\n",
       "    <tr>\n",
       "      <th>4</th>\n",
       "      <td>Aleksey Nemov</td>\n",
       "      <td>24.0</td>\n",
       "      <td>Russia</td>\n",
       "      <td>2000</td>\n",
       "      <td>2000-10-01</td>\n",
       "      <td>Gymnastics</td>\n",
       "      <td>2</td>\n",
       "      <td>1</td>\n",
       "      <td>3</td>\n",
       "      <td>6</td>\n",
       "    </tr>\n",
       "    <tr>\n",
       "      <th>...</th>\n",
       "      <td>...</td>\n",
       "      <td>...</td>\n",
       "      <td>...</td>\n",
       "      <td>...</td>\n",
       "      <td>...</td>\n",
       "      <td>...</td>\n",
       "      <td>...</td>\n",
       "      <td>...</td>\n",
       "      <td>...</td>\n",
       "      <td>...</td>\n",
       "    </tr>\n",
       "    <tr>\n",
       "      <th>8613</th>\n",
       "      <td>Olena Sadovnycha</td>\n",
       "      <td>32.0</td>\n",
       "      <td>Ukraine</td>\n",
       "      <td>2000</td>\n",
       "      <td>2000-10-01</td>\n",
       "      <td>Archery</td>\n",
       "      <td>0</td>\n",
       "      <td>1</td>\n",
       "      <td>0</td>\n",
       "      <td>1</td>\n",
       "    </tr>\n",
       "    <tr>\n",
       "      <th>8614</th>\n",
       "      <td>Kateryna Serdiuk</td>\n",
       "      <td>17.0</td>\n",
       "      <td>Ukraine</td>\n",
       "      <td>2000</td>\n",
       "      <td>2000-10-01</td>\n",
       "      <td>Archery</td>\n",
       "      <td>0</td>\n",
       "      <td>1</td>\n",
       "      <td>0</td>\n",
       "      <td>1</td>\n",
       "    </tr>\n",
       "    <tr>\n",
       "      <th>8615</th>\n",
       "      <td>Wietse van Alten</td>\n",
       "      <td>21.0</td>\n",
       "      <td>Netherlands</td>\n",
       "      <td>2000</td>\n",
       "      <td>2000-10-01</td>\n",
       "      <td>Archery</td>\n",
       "      <td>0</td>\n",
       "      <td>0</td>\n",
       "      <td>1</td>\n",
       "      <td>1</td>\n",
       "    </tr>\n",
       "    <tr>\n",
       "      <th>8616</th>\n",
       "      <td>Sandra Wagner-Sachse</td>\n",
       "      <td>31.0</td>\n",
       "      <td>Germany</td>\n",
       "      <td>2000</td>\n",
       "      <td>2000-10-01</td>\n",
       "      <td>Archery</td>\n",
       "      <td>0</td>\n",
       "      <td>0</td>\n",
       "      <td>1</td>\n",
       "      <td>1</td>\n",
       "    </tr>\n",
       "    <tr>\n",
       "      <th>8617</th>\n",
       "      <td>Rod White</td>\n",
       "      <td>23.0</td>\n",
       "      <td>United States</td>\n",
       "      <td>2000</td>\n",
       "      <td>2000-10-01</td>\n",
       "      <td>Archery</td>\n",
       "      <td>0</td>\n",
       "      <td>0</td>\n",
       "      <td>1</td>\n",
       "      <td>1</td>\n",
       "    </tr>\n",
       "  </tbody>\n",
       "</table>\n",
       "<p>8615 rows × 10 columns</p>\n",
       "</div>"
      ],
      "text/plain": [
       "                      name   age        country  year Date_Given      sports  \\\n",
       "0           Michael Phelps  23.0  United States  2008 2008-08-24    Swimming   \n",
       "1           Michael Phelps  19.0  United States  2004 2004-08-29    Swimming   \n",
       "2           Michael Phelps  27.0  United States  2012 2012-08-12    Swimming   \n",
       "3         Natalie Coughlin  25.0  United States  2008 2008-08-24    Swimming   \n",
       "4            Aleksey Nemov  24.0         Russia  2000 2000-10-01  Gymnastics   \n",
       "...                    ...   ...            ...   ...        ...         ...   \n",
       "8613      Olena Sadovnycha  32.0        Ukraine  2000 2000-10-01     Archery   \n",
       "8614      Kateryna Serdiuk  17.0        Ukraine  2000 2000-10-01     Archery   \n",
       "8615      Wietse van Alten  21.0    Netherlands  2000 2000-10-01     Archery   \n",
       "8616  Sandra Wagner-Sachse  31.0        Germany  2000 2000-10-01     Archery   \n",
       "8617             Rod White  23.0  United States  2000 2000-10-01     Archery   \n",
       "\n",
       "      gold_medal  silver_medal  brone_medal  total_medal  \n",
       "0              8             0            0            8  \n",
       "1              6             0            2            8  \n",
       "2              4             2            0            6  \n",
       "3              1             2            3            6  \n",
       "4              2             1            3            6  \n",
       "...          ...           ...          ...          ...  \n",
       "8613           0             1            0            1  \n",
       "8614           0             1            0            1  \n",
       "8615           0             0            1            1  \n",
       "8616           0             0            1            1  \n",
       "8617           0             0            1            1  \n",
       "\n",
       "[8615 rows x 10 columns]"
      ]
     },
     "execution_count": 12,
     "metadata": {},
     "output_type": "execute_result"
    }
   ],
   "source": [
    "raw_data"
   ]
  },
  {
   "cell_type": "code",
   "execution_count": 13,
   "id": "bc12eca6",
   "metadata": {},
   "outputs": [
    {
     "data": {
      "text/plain": [
       "(8615, 10)"
      ]
     },
     "execution_count": 13,
     "metadata": {},
     "output_type": "execute_result"
    }
   ],
   "source": [
    "raw_data.shape#after removing duplicates it shows 8615 rows and 10 columns"
   ]
  },
  {
   "cell_type": "markdown",
   "id": "6fe78fba",
   "metadata": {},
   "source": [
    "### Observation"
   ]
  },
  {
   "cell_type": "markdown",
   "id": "858a592a",
   "metadata": {},
   "source": [
    "### After droping duplicates in the data ,it is having 8615 rows and 10 columns."
   ]
  },
  {
   "cell_type": "markdown",
   "id": "69930376",
   "metadata": {},
   "source": [
    "## 3) Deal with missing values appropriately. You can either remove them or fill them, but a proper justification is required."
   ]
  },
  {
   "cell_type": "code",
   "execution_count": 14,
   "id": "64b9caa1",
   "metadata": {
    "colab": {
     "base_uri": "https://localhost:8080/"
    },
    "id": "64b9caa1",
    "outputId": "48ee29e6-0bb3-40c3-d005-f999036671fe"
   },
   "outputs": [
    {
     "data": {
      "text/plain": [
       "name            2\n",
       "age             2\n",
       "country         0\n",
       "year            0\n",
       "Date_Given      0\n",
       "sports          0\n",
       "gold_medal      0\n",
       "silver_medal    0\n",
       "brone_medal     0\n",
       "total_medal     0\n",
       "dtype: int64"
      ]
     },
     "execution_count": 14,
     "metadata": {},
     "output_type": "execute_result"
    }
   ],
   "source": [
    "raw_data.isnull().sum()#It shows the count of null values in the data"
   ]
  },
  {
   "cell_type": "code",
   "execution_count": 15,
   "id": "335cf44a",
   "metadata": {
    "colab": {
     "base_uri": "https://localhost:8080/",
     "height": 112
    },
    "id": "335cf44a",
    "outputId": "4a7f20f5-53ba-489d-dae2-8106c50ba6dc"
   },
   "outputs": [
    {
     "data": {
      "text/html": [
       "<div>\n",
       "<style scoped>\n",
       "    .dataframe tbody tr th:only-of-type {\n",
       "        vertical-align: middle;\n",
       "    }\n",
       "\n",
       "    .dataframe tbody tr th {\n",
       "        vertical-align: top;\n",
       "    }\n",
       "\n",
       "    .dataframe thead th {\n",
       "        text-align: right;\n",
       "    }\n",
       "</style>\n",
       "<table border=\"1\" class=\"dataframe\">\n",
       "  <thead>\n",
       "    <tr style=\"text-align: right;\">\n",
       "      <th></th>\n",
       "      <th>name</th>\n",
       "      <th>age</th>\n",
       "      <th>country</th>\n",
       "      <th>year</th>\n",
       "      <th>Date_Given</th>\n",
       "      <th>sports</th>\n",
       "      <th>gold_medal</th>\n",
       "      <th>silver_medal</th>\n",
       "      <th>brone_medal</th>\n",
       "      <th>total_medal</th>\n",
       "    </tr>\n",
       "  </thead>\n",
       "  <tbody>\n",
       "    <tr>\n",
       "      <th>1428</th>\n",
       "      <td>NaN</td>\n",
       "      <td>NaN</td>\n",
       "      <td>Brazil</td>\n",
       "      <td>2012</td>\n",
       "      <td>2012-08-12</td>\n",
       "      <td>Volleyball</td>\n",
       "      <td>0</td>\n",
       "      <td>1</td>\n",
       "      <td>0</td>\n",
       "      <td>1</td>\n",
       "    </tr>\n",
       "    <tr>\n",
       "      <th>4485</th>\n",
       "      <td>NaN</td>\n",
       "      <td>NaN</td>\n",
       "      <td>Argentina</td>\n",
       "      <td>2012</td>\n",
       "      <td>2012-08-12</td>\n",
       "      <td>Hockey</td>\n",
       "      <td>0</td>\n",
       "      <td>1</td>\n",
       "      <td>0</td>\n",
       "      <td>1</td>\n",
       "    </tr>\n",
       "  </tbody>\n",
       "</table>\n",
       "</div>"
      ],
      "text/plain": [
       "     name  age    country  year Date_Given      sports  gold_medal  \\\n",
       "1428  NaN  NaN     Brazil  2012 2012-08-12  Volleyball           0   \n",
       "4485  NaN  NaN  Argentina  2012 2012-08-12      Hockey           0   \n",
       "\n",
       "      silver_medal  brone_medal  total_medal  \n",
       "1428             1            0            1  \n",
       "4485             1            0            1  "
      ]
     },
     "execution_count": 15,
     "metadata": {},
     "output_type": "execute_result"
    }
   ],
   "source": [
    "raw_data[raw_data.isnull().any(axis=1)]#It shows the null value rows"
   ]
  },
  {
   "cell_type": "code",
   "execution_count": 16,
   "id": "564e8649",
   "metadata": {
    "id": "564e8649"
   },
   "outputs": [],
   "source": [
    "new_data=raw_data.dropna()#It drops the null values from the data"
   ]
  },
  {
   "cell_type": "code",
   "execution_count": 17,
   "id": "007acf20",
   "metadata": {},
   "outputs": [
    {
     "data": {
      "text/html": [
       "<div>\n",
       "<style scoped>\n",
       "    .dataframe tbody tr th:only-of-type {\n",
       "        vertical-align: middle;\n",
       "    }\n",
       "\n",
       "    .dataframe tbody tr th {\n",
       "        vertical-align: top;\n",
       "    }\n",
       "\n",
       "    .dataframe thead th {\n",
       "        text-align: right;\n",
       "    }\n",
       "</style>\n",
       "<table border=\"1\" class=\"dataframe\">\n",
       "  <thead>\n",
       "    <tr style=\"text-align: right;\">\n",
       "      <th></th>\n",
       "      <th>name</th>\n",
       "      <th>age</th>\n",
       "      <th>country</th>\n",
       "      <th>year</th>\n",
       "      <th>Date_Given</th>\n",
       "      <th>sports</th>\n",
       "      <th>gold_medal</th>\n",
       "      <th>silver_medal</th>\n",
       "      <th>brone_medal</th>\n",
       "      <th>total_medal</th>\n",
       "    </tr>\n",
       "  </thead>\n",
       "  <tbody>\n",
       "    <tr>\n",
       "      <th>0</th>\n",
       "      <td>Michael Phelps</td>\n",
       "      <td>23.0</td>\n",
       "      <td>United States</td>\n",
       "      <td>2008</td>\n",
       "      <td>2008-08-24</td>\n",
       "      <td>Swimming</td>\n",
       "      <td>8</td>\n",
       "      <td>0</td>\n",
       "      <td>0</td>\n",
       "      <td>8</td>\n",
       "    </tr>\n",
       "    <tr>\n",
       "      <th>1</th>\n",
       "      <td>Michael Phelps</td>\n",
       "      <td>19.0</td>\n",
       "      <td>United States</td>\n",
       "      <td>2004</td>\n",
       "      <td>2004-08-29</td>\n",
       "      <td>Swimming</td>\n",
       "      <td>6</td>\n",
       "      <td>0</td>\n",
       "      <td>2</td>\n",
       "      <td>8</td>\n",
       "    </tr>\n",
       "    <tr>\n",
       "      <th>2</th>\n",
       "      <td>Michael Phelps</td>\n",
       "      <td>27.0</td>\n",
       "      <td>United States</td>\n",
       "      <td>2012</td>\n",
       "      <td>2012-08-12</td>\n",
       "      <td>Swimming</td>\n",
       "      <td>4</td>\n",
       "      <td>2</td>\n",
       "      <td>0</td>\n",
       "      <td>6</td>\n",
       "    </tr>\n",
       "    <tr>\n",
       "      <th>3</th>\n",
       "      <td>Natalie Coughlin</td>\n",
       "      <td>25.0</td>\n",
       "      <td>United States</td>\n",
       "      <td>2008</td>\n",
       "      <td>2008-08-24</td>\n",
       "      <td>Swimming</td>\n",
       "      <td>1</td>\n",
       "      <td>2</td>\n",
       "      <td>3</td>\n",
       "      <td>6</td>\n",
       "    </tr>\n",
       "    <tr>\n",
       "      <th>4</th>\n",
       "      <td>Aleksey Nemov</td>\n",
       "      <td>24.0</td>\n",
       "      <td>Russia</td>\n",
       "      <td>2000</td>\n",
       "      <td>2000-10-01</td>\n",
       "      <td>Gymnastics</td>\n",
       "      <td>2</td>\n",
       "      <td>1</td>\n",
       "      <td>3</td>\n",
       "      <td>6</td>\n",
       "    </tr>\n",
       "  </tbody>\n",
       "</table>\n",
       "</div>"
      ],
      "text/plain": [
       "               name   age        country  year Date_Given      sports  \\\n",
       "0    Michael Phelps  23.0  United States  2008 2008-08-24    Swimming   \n",
       "1    Michael Phelps  19.0  United States  2004 2004-08-29    Swimming   \n",
       "2    Michael Phelps  27.0  United States  2012 2012-08-12    Swimming   \n",
       "3  Natalie Coughlin  25.0  United States  2008 2008-08-24    Swimming   \n",
       "4     Aleksey Nemov  24.0         Russia  2000 2000-10-01  Gymnastics   \n",
       "\n",
       "   gold_medal  silver_medal  brone_medal  total_medal  \n",
       "0           8             0            0            8  \n",
       "1           6             0            2            8  \n",
       "2           4             2            0            6  \n",
       "3           1             2            3            6  \n",
       "4           2             1            3            6  "
      ]
     },
     "execution_count": 17,
     "metadata": {},
     "output_type": "execute_result"
    }
   ],
   "source": [
    "new_data.head()#after removing the null values the new_data of first 5 rows"
   ]
  },
  {
   "cell_type": "code",
   "execution_count": 18,
   "id": "12f528e9",
   "metadata": {
    "colab": {
     "base_uri": "https://localhost:8080/"
    },
    "id": "12f528e9",
    "outputId": "ef8a277d-c195-464a-efca-85a61d78c5fa"
   },
   "outputs": [
    {
     "data": {
      "text/plain": [
       "(8613, 10)"
      ]
     },
     "execution_count": 18,
     "metadata": {},
     "output_type": "execute_result"
    }
   ],
   "source": [
    "new_data.shape#It shows 8613 rows and 10 columns"
   ]
  },
  {
   "cell_type": "code",
   "execution_count": 19,
   "id": "286d0daa",
   "metadata": {
    "colab": {
     "base_uri": "https://localhost:8080/"
    },
    "id": "286d0daa",
    "outputId": "d7bb1d25-0c0b-407f-eb4d-35fa66cd992c"
   },
   "outputs": [
    {
     "name": "stdout",
     "output_type": "stream",
     "text": [
      "<class 'pandas.core.frame.DataFrame'>\n",
      "Int64Index: 8613 entries, 0 to 8617\n",
      "Data columns (total 10 columns):\n",
      " #   Column        Non-Null Count  Dtype         \n",
      "---  ------        --------------  -----         \n",
      " 0   name          8613 non-null   object        \n",
      " 1   age           8613 non-null   float64       \n",
      " 2   country       8613 non-null   object        \n",
      " 3   year          8613 non-null   int64         \n",
      " 4   Date_Given    8613 non-null   datetime64[ns]\n",
      " 5   sports        8613 non-null   object        \n",
      " 6   gold_medal    8613 non-null   int64         \n",
      " 7   silver_medal  8613 non-null   int64         \n",
      " 8   brone_medal   8613 non-null   int64         \n",
      " 9   total_medal   8613 non-null   int64         \n",
      "dtypes: datetime64[ns](1), float64(1), int64(5), object(3)\n",
      "memory usage: 740.2+ KB\n"
     ]
    }
   ],
   "source": [
    "new_data.info()#It shows the information of the new_data of olympics"
   ]
  },
  {
   "cell_type": "markdown",
   "id": "d040b66b",
   "metadata": {},
   "source": [
    "### Observation:"
   ]
  },
  {
   "cell_type": "markdown",
   "id": "157b1fc4",
   "metadata": {},
   "source": [
    "### After droping the null values the data is cleaned is shown above."
   ]
  },
  {
   "cell_type": "markdown",
   "id": "12bc9283",
   "metadata": {},
   "source": [
    "## 4) Please remove special characters from the name column."
   ]
  },
  {
   "cell_type": "code",
   "execution_count": 20,
   "id": "d90edb47",
   "metadata": {
    "id": "d90edb47"
   },
   "outputs": [
    {
     "data": {
      "text/plain": [
       "0             Michael Phelps\n",
       "1             Michael Phelps\n",
       "2             Michael Phelps\n",
       "3           Natalie Coughlin\n",
       "4              Aleksey Nemov\n",
       "                ...         \n",
       "8613        Olena Sadovnycha\n",
       "8614        Kateryna Serdiuk\n",
       "8615        Wietse van Alten\n",
       "8616    Sandra Wagner-Sachse\n",
       "8617               Rod White\n",
       "Name: name, Length: 8613, dtype: object"
      ]
     },
     "execution_count": 20,
     "metadata": {},
     "output_type": "execute_result"
    }
   ],
   "source": [
    "new_data['name']#Here i observed that the name column is having special characters"
   ]
  },
  {
   "cell_type": "code",
   "execution_count": 21,
   "id": "a5a16996",
   "metadata": {
    "id": "a5a16996"
   },
   "outputs": [
    {
     "name": "stderr",
     "output_type": "stream",
     "text": [
      "C:\\Users\\DELL\\AppData\\Local\\Temp\\ipykernel_10824\\4179689038.py:1: FutureWarning: The default value of regex will change from True to False in a future version.\n",
      "  new_data.name=new_data.name.str.replace('[^a-zA-Z]',' ')#replacing the special characters with space\n",
      "C:\\Users\\DELL\\AppData\\Local\\Temp\\ipykernel_10824\\4179689038.py:1: SettingWithCopyWarning: \n",
      "A value is trying to be set on a copy of a slice from a DataFrame.\n",
      "Try using .loc[row_indexer,col_indexer] = value instead\n",
      "\n",
      "See the caveats in the documentation: https://pandas.pydata.org/pandas-docs/stable/user_guide/indexing.html#returning-a-view-versus-a-copy\n",
      "  new_data.name=new_data.name.str.replace('[^a-zA-Z]',' ')#replacing the special characters with space\n"
     ]
    }
   ],
   "source": [
    "new_data.name=new_data.name.str.replace('[^a-zA-Z]',' ')#replacing the special characters with space"
   ]
  },
  {
   "cell_type": "code",
   "execution_count": 22,
   "id": "a09a1f7d",
   "metadata": {
    "id": "a09a1f7d"
   },
   "outputs": [
    {
     "data": {
      "text/plain": [
       "0             Michael Phelps\n",
       "1             Michael Phelps\n",
       "2             Michael Phelps\n",
       "3           Natalie Coughlin\n",
       "4              Aleksey Nemov\n",
       "                ...         \n",
       "8613        Olena Sadovnycha\n",
       "8614        Kateryna Serdiuk\n",
       "8615        Wietse van Alten\n",
       "8616    Sandra Wagner Sachse\n",
       "8617               Rod White\n",
       "Name: name, Length: 8613, dtype: object"
      ]
     },
     "execution_count": 22,
     "metadata": {},
     "output_type": "execute_result"
    }
   ],
   "source": [
    "new_data['name']#So no special characters in 'name' column "
   ]
  },
  {
   "cell_type": "code",
   "execution_count": 23,
   "id": "1bb509b6",
   "metadata": {
    "colab": {
     "base_uri": "https://localhost:8080/",
     "height": 206
    },
    "id": "1bb509b6",
    "outputId": "d99d52e6-ed9a-41f8-eba5-26091180724b"
   },
   "outputs": [
    {
     "data": {
      "text/html": [
       "<div>\n",
       "<style scoped>\n",
       "    .dataframe tbody tr th:only-of-type {\n",
       "        vertical-align: middle;\n",
       "    }\n",
       "\n",
       "    .dataframe tbody tr th {\n",
       "        vertical-align: top;\n",
       "    }\n",
       "\n",
       "    .dataframe thead th {\n",
       "        text-align: right;\n",
       "    }\n",
       "</style>\n",
       "<table border=\"1\" class=\"dataframe\">\n",
       "  <thead>\n",
       "    <tr style=\"text-align: right;\">\n",
       "      <th></th>\n",
       "      <th>name</th>\n",
       "      <th>age</th>\n",
       "      <th>country</th>\n",
       "      <th>year</th>\n",
       "      <th>Date_Given</th>\n",
       "      <th>sports</th>\n",
       "      <th>gold_medal</th>\n",
       "      <th>silver_medal</th>\n",
       "      <th>brone_medal</th>\n",
       "      <th>total_medal</th>\n",
       "    </tr>\n",
       "  </thead>\n",
       "  <tbody>\n",
       "    <tr>\n",
       "      <th>0</th>\n",
       "      <td>Michael Phelps</td>\n",
       "      <td>23.0</td>\n",
       "      <td>United States</td>\n",
       "      <td>2008</td>\n",
       "      <td>2008-08-24</td>\n",
       "      <td>Swimming</td>\n",
       "      <td>8</td>\n",
       "      <td>0</td>\n",
       "      <td>0</td>\n",
       "      <td>8</td>\n",
       "    </tr>\n",
       "    <tr>\n",
       "      <th>1</th>\n",
       "      <td>Michael Phelps</td>\n",
       "      <td>19.0</td>\n",
       "      <td>United States</td>\n",
       "      <td>2004</td>\n",
       "      <td>2004-08-29</td>\n",
       "      <td>Swimming</td>\n",
       "      <td>6</td>\n",
       "      <td>0</td>\n",
       "      <td>2</td>\n",
       "      <td>8</td>\n",
       "    </tr>\n",
       "    <tr>\n",
       "      <th>2</th>\n",
       "      <td>Michael Phelps</td>\n",
       "      <td>27.0</td>\n",
       "      <td>United States</td>\n",
       "      <td>2012</td>\n",
       "      <td>2012-08-12</td>\n",
       "      <td>Swimming</td>\n",
       "      <td>4</td>\n",
       "      <td>2</td>\n",
       "      <td>0</td>\n",
       "      <td>6</td>\n",
       "    </tr>\n",
       "    <tr>\n",
       "      <th>3</th>\n",
       "      <td>Natalie Coughlin</td>\n",
       "      <td>25.0</td>\n",
       "      <td>United States</td>\n",
       "      <td>2008</td>\n",
       "      <td>2008-08-24</td>\n",
       "      <td>Swimming</td>\n",
       "      <td>1</td>\n",
       "      <td>2</td>\n",
       "      <td>3</td>\n",
       "      <td>6</td>\n",
       "    </tr>\n",
       "    <tr>\n",
       "      <th>4</th>\n",
       "      <td>Aleksey Nemov</td>\n",
       "      <td>24.0</td>\n",
       "      <td>Russia</td>\n",
       "      <td>2000</td>\n",
       "      <td>2000-10-01</td>\n",
       "      <td>Gymnastics</td>\n",
       "      <td>2</td>\n",
       "      <td>1</td>\n",
       "      <td>3</td>\n",
       "      <td>6</td>\n",
       "    </tr>\n",
       "  </tbody>\n",
       "</table>\n",
       "</div>"
      ],
      "text/plain": [
       "               name   age        country  year Date_Given      sports  \\\n",
       "0    Michael Phelps  23.0  United States  2008 2008-08-24    Swimming   \n",
       "1    Michael Phelps  19.0  United States  2004 2004-08-29    Swimming   \n",
       "2    Michael Phelps  27.0  United States  2012 2012-08-12    Swimming   \n",
       "3  Natalie Coughlin  25.0  United States  2008 2008-08-24    Swimming   \n",
       "4     Aleksey Nemov  24.0         Russia  2000 2000-10-01  Gymnastics   \n",
       "\n",
       "   gold_medal  silver_medal  brone_medal  total_medal  \n",
       "0           8             0            0            8  \n",
       "1           6             0            2            8  \n",
       "2           4             2            0            6  \n",
       "3           1             2            3            6  \n",
       "4           2             1            3            6  "
      ]
     },
     "execution_count": 23,
     "metadata": {},
     "output_type": "execute_result"
    }
   ],
   "source": [
    "new_data.head()"
   ]
  },
  {
   "cell_type": "markdown",
   "id": "793b9634",
   "metadata": {},
   "source": [
    "### Observation:"
   ]
  },
  {
   "cell_type": "markdown",
   "id": "8cc3fa37",
   "metadata": {},
   "source": [
    "### In the name column there are some special characters and i removed using replace function and all special characters are removed."
   ]
  },
  {
   "cell_type": "code",
   "execution_count": 24,
   "id": "607f8705",
   "metadata": {
    "id": "607f8705"
   },
   "outputs": [],
   "source": [
    "#new_data.to_csv(\"new_cdata_olympic.csv\", index=False)#creating a new cleaned data csv file"
   ]
  },
  {
   "cell_type": "markdown",
   "id": "c13fa7f3",
   "metadata": {},
   "source": [
    "### 5)Perform data visualization techniques to appropriate columns and explain them.  "
   ]
  },
  {
   "cell_type": "code",
   "execution_count": 25,
   "id": "4247441e",
   "metadata": {},
   "outputs": [
    {
     "data": {
      "text/plain": [
       "Index(['name', 'age', 'country', 'year', 'Date_Given', 'sports', 'gold_medal',\n",
       "       'silver_medal', 'brone_medal', 'total_medal'],\n",
       "      dtype='object')"
      ]
     },
     "execution_count": 25,
     "metadata": {},
     "output_type": "execute_result"
    }
   ],
   "source": [
    "new_data.columns#It shows all column names"
   ]
  },
  {
   "cell_type": "code",
   "execution_count": 26,
   "id": "0cb824db",
   "metadata": {},
   "outputs": [
    {
     "name": "stdout",
     "output_type": "stream",
     "text": [
      "<class 'pandas.core.frame.DataFrame'>\n",
      "Int64Index: 8613 entries, 0 to 8617\n",
      "Data columns (total 10 columns):\n",
      " #   Column        Non-Null Count  Dtype         \n",
      "---  ------        --------------  -----         \n",
      " 0   name          8613 non-null   object        \n",
      " 1   age           8613 non-null   float64       \n",
      " 2   country       8613 non-null   object        \n",
      " 3   year          8613 non-null   int64         \n",
      " 4   Date_Given    8613 non-null   datetime64[ns]\n",
      " 5   sports        8613 non-null   object        \n",
      " 6   gold_medal    8613 non-null   int64         \n",
      " 7   silver_medal  8613 non-null   int64         \n",
      " 8   brone_medal   8613 non-null   int64         \n",
      " 9   total_medal   8613 non-null   int64         \n",
      "dtypes: datetime64[ns](1), float64(1), int64(5), object(3)\n",
      "memory usage: 740.2+ KB\n"
     ]
    }
   ],
   "source": [
    "new_data.info()#It shows the info of data"
   ]
  },
  {
   "cell_type": "code",
   "execution_count": 27,
   "id": "445c439a",
   "metadata": {},
   "outputs": [
    {
     "data": {
      "image/png": "[encoded data removed]",
      "text/plain": [
       "<Figure size 1080x504 with 1 Axes>"
      ]
     },
     "metadata": {
      "needs_background": "light"
     },
     "output_type": "display_data"
    }
   ],
   "source": [
    "sport_medal=pd.DataFrame(new_data.groupby(['sports'])[['gold_medal','silver_medal','brone_medal','total_medal']].sum())#groupby sports and all medals sum\n",
    "o=sport_medal.sort_values(['total_medal'],ascending=False)#sorting in descending order by total medals\n",
    "s=o.head(10).plot(kind='bar',figsize=(15,7),fontsize=15,edgecolor='brown')#plotting using bar plot\n",
    "rotate=plt.xticks(rotation=45)#rotating 45 degrees x axis\n",
    "s.set_alpha(0.8)\n",
    "s.set_title('Plot shows the Top 10 Sports with no.of medals', fontsize=20)#shows the title of the graph\n",
    "s.set_xlabel('Sports', fontsize=15)#x-axis of the sports\n",
    "s.set_ylabel('Number of Medals', fontsize=15)#y axis of the number of medals\n",
    "plt.legend(fontsize=10)#shows legend\n",
    "plt.show()#To show plot"
   ]
  },
  {
   "cell_type": "markdown",
   "id": "5a27d2c7",
   "metadata": {},
   "source": [
    "### Observation:"
   ]
  },
  {
   "cell_type": "markdown",
   "id": "5f4520b5",
   "metadata": {},
   "source": [
    "### The Swimming game occupies first for all types medals,then after Athletics and followed by Rowing."
   ]
  },
  {
   "cell_type": "code",
   "execution_count": 28,
   "id": "38d5b3a3",
   "metadata": {},
   "outputs": [
    {
     "data": {
      "image/png": "[encoded data removed]",
      "text/plain": [
       "<Figure size 1080x504 with 1 Axes>"
      ]
     },
     "metadata": {
      "needs_background": "light"
     },
     "output_type": "display_data"
    }
   ],
   "source": [
    "country_medal=pd.DataFrame(new_data.groupby(['country'])[['gold_medal','silver_medal','brone_medal','total_medal']].sum())#groupby country and all medals sum\n",
    "c=country_medal.sort_values(['total_medal'],ascending=False)#sorting in descending order by total medals\n",
    "s=c.head(10).plot(kind='bar',figsize=(15,7),color=['blue','pink','cyan','green'],fontsize=15,edgecolor='brown')#plotting using bar plot\n",
    "rotate=plt.xticks(rotation=45)#rotating 45 degrees x axis\n",
    "s.set_title('Plot shows the Top 10 Countries with no.of medals', fontsize=20)#shows the title of the graph\n",
    "s.set_xlabel('Country', fontsize=15)#x-axis of the Country\n",
    "s.set_ylabel('Number of Medals', fontsize=15)#y axis of the number of medals\n",
    "plt.legend(fontsize=10)#shows legend\n",
    "plt.show()#To show plot"
   ]
  },
  {
   "cell_type": "markdown",
   "id": "10af9395",
   "metadata": {},
   "source": [
    "### Observation:"
   ]
  },
  {
   "cell_type": "markdown",
   "id": "b834b731",
   "metadata": {},
   "source": [
    "### The country United States occupies first among all countries with no.of medals,then after Russia and followed by Germany."
   ]
  },
  {
   "cell_type": "code",
   "execution_count": 29,
   "id": "f6c80bfa",
   "metadata": {},
   "outputs": [
    {
     "data": {
      "image/png": "[encoded data removed]",
      "text/plain": [
       "<Figure size 1080x504 with 1 Axes>"
      ]
     },
     "metadata": {
      "needs_background": "light"
     },
     "output_type": "display_data"
    }
   ],
   "source": [
    "name_medal=pd.DataFrame(new_data.groupby(['name'])[['gold_medal','silver_medal','brone_medal','total_medal']].sum())#groupby name and all medals sum\n",
    "c=name_medal.sort_values(['total_medal'],ascending=False)#sorting in descending order by total medals\n",
    "s=c.head(10).plot(kind='bar',figsize=(15,7),fontsize=15,edgecolor='brown')#plotting using bar plot\n",
    "rotate=plt.xticks(rotation=45)#rotating 45 degrees x axis\n",
    "s.set_title('Plot shows the Top 10 name with no.of medals', fontsize=20)#shows the title of the graph\n",
    "s.set_xlabel('Name', fontsize=15)#x-axis of the Name\n",
    "s.set_ylabel('Number of Medals', fontsize=15)#y axis of the number of medals\n",
    "plt.legend(fontsize=10)#shows legend\n",
    "plt.show()#To show plot"
   ]
  },
  {
   "cell_type": "markdown",
   "id": "b8ab522c",
   "metadata": {},
   "source": [
    "### Observation:"
   ]
  },
  {
   "cell_type": "markdown",
   "id": "28e4ab69",
   "metadata": {},
   "source": [
    "### The Michael Phelps toped in all medals,then after Natalie Coughlim,followed by Ryan Lochte."
   ]
  },
  {
   "cell_type": "code",
   "execution_count": 30,
   "id": "1105097c",
   "metadata": {},
   "outputs": [
    {
     "data": {
      "image/png": "[encoded data removed]",
      "text/plain": [
       "<Figure size 1080x504 with 1 Axes>"
      ]
     },
     "metadata": {
      "needs_background": "light"
     },
     "output_type": "display_data"
    }
   ],
   "source": [
    "year_medal=pd.DataFrame(new_data.groupby(['year'])[['gold_medal','silver_medal','brone_medal','total_medal']].sum())#groupby year and all medals sum\n",
    "c=year_medal.sort_values(['total_medal'],ascending=False)#sorting in descending order by total medals\n",
    "s=c.head(10).plot(kind='bar',figsize=(15,7),fontsize=15,edgecolor='brown')#plotting using bar plot\n",
    "rotate=plt.xticks(rotation=45)#rotating 45 degrees x axis\n",
    "s.set_title('Plot shows the Top 10 medals yearly wise', fontsize=22)#shows the title of the graph\n",
    "s.set_xlabel('Year', fontsize=20)#x-axis of the year\n",
    "s.set_ylabel('Number of Medals', fontsize=20)#y axis of the number of medals\n",
    "plt.legend(fontsize=10)#shows legend\n",
    "plt.show()#To show plot"
   ]
  },
  {
   "cell_type": "markdown",
   "id": "d87de079",
   "metadata": {},
   "source": [
    "### Observation:"
   ]
  },
  {
   "cell_type": "markdown",
   "id": "b3d9d432",
   "metadata": {},
   "source": [
    "### In the year 2008 the olympic game has toped,then in 2000 and followed by 2004."
   ]
  },
  {
   "cell_type": "code",
   "execution_count": null,
   "id": "7631e69b",
   "metadata": {},
   "outputs": [],
   "source": []
  },
  {
   "cell_type": "code",
   "execution_count": 31,
   "id": "f2c1ac14",
   "metadata": {},
   "outputs": [
    {
     "data": {
      "text/plain": [
       "<seaborn.axisgrid.PairGrid at 0x2bd5d6aee50>"
      ]
     },
     "execution_count": 31,
     "metadata": {},
     "output_type": "execute_result"
    },
    {
     "data": {
      "image/png": "[encoded data removed]",
      "text/plain": [
       "<Figure size 1080x1080 with 42 Axes>"
      ]
     },
     "metadata": {
      "needs_background": "light"
     },
     "output_type": "display_data"
    }
   ],
   "source": [
    "sns.pairplot(new_data)"
   ]
  },
  {
   "cell_type": "markdown",
   "id": "2b4e08d7",
   "metadata": {
    "id": "7cc65781"
   },
   "source": [
    "### 6) Please check if the age dataset is skewed or symmetric. Based on results perform transformation."
   ]
  },
  {
   "cell_type": "code",
   "execution_count": 32,
   "id": "839b91e8",
   "metadata": {
    "colab": {
     "base_uri": "https://localhost:8080/",
     "height": 458
    },
    "id": "839b91e8",
    "outputId": "e5d08fe6-bf8a-4357-af73-97e857b58a5a"
   },
   "outputs": [
    {
     "data": {
      "image/png": "[encoded data removed]",
      "text/plain": [
       "<Figure size 1080x504 with 1 Axes>"
      ]
     },
     "metadata": {
      "needs_background": "light"
     },
     "output_type": "display_data"
    }
   ],
   "source": [
    "plt.figure(figsize=(15,7))#It shows the figure size\n",
    "sns.histplot(x='age',data=new_data,kde=True,bins=40,color='green')#It shows how the data is distributed\n",
    "plt.axvline(x=new_data['age'].mean(),color='r',label='mean')#It shows the line of the mean \n",
    "plt.axvline(x=new_data['age'].median(),color='b',label='median',ls='--')#It shows the line of the median\n",
    "plt.title(\"Distribution of Age Plot\",fontsize=20)#It shows the title of the plot\n",
    "plt.legend(fontsize=15)#It shows the legends\n",
    "plt.show()#It shows the plot"
   ]
  },
  {
   "cell_type": "markdown",
   "id": "abf2457f",
   "metadata": {},
   "source": [
    "### Observation:"
   ]
  },
  {
   "cell_type": "markdown",
   "id": "15e3276b",
   "metadata": {},
   "source": [
    "### From the histogram plot,it  clearly shows that the age colum is not distributed normally(mean and median is not equal)."
   ]
  },
  {
   "cell_type": "code",
   "execution_count": 33,
   "id": "b93bde34",
   "metadata": {
    "colab": {
     "base_uri": "https://localhost:8080/"
    },
    "id": "b93bde34",
    "outputId": "04975ffa-6153-4588-cab9-e7c42037ce88"
   },
   "outputs": [
    {
     "data": {
      "text/plain": [
       "0.8590070668484233"
      ]
     },
     "execution_count": 33,
     "metadata": {},
     "output_type": "execute_result"
    }
   ],
   "source": [
    "new_data['age'].skew()#It shows the skew value"
   ]
  },
  {
   "cell_type": "markdown",
   "id": "4fe7f032",
   "metadata": {},
   "source": [
    "### The skew value ranges between 0.5 to 1,so it is moderately skewed."
   ]
  },
  {
   "cell_type": "code",
   "execution_count": 34,
   "id": "12d73ffe",
   "metadata": {
    "colab": {
     "base_uri": "https://localhost:8080/"
    },
    "id": "12d73ffe",
    "outputId": "7450b070-4be1-4b0c-ded8-b0ee1125daf4"
   },
   "outputs": [
    {
     "data": {
      "text/plain": [
       "count    8613.000000\n",
       "mean       26.405434\n",
       "std         5.102118\n",
       "min        15.000000\n",
       "25%        23.000000\n",
       "50%        26.000000\n",
       "75%        29.000000\n",
       "max        61.000000\n",
       "Name: age, dtype: float64"
      ]
     },
     "execution_count": 34,
     "metadata": {},
     "output_type": "execute_result"
    }
   ],
   "source": [
    "new_data['age'].describe()#It shows describe function of the data"
   ]
  },
  {
   "cell_type": "markdown",
   "id": "d0c6a728",
   "metadata": {},
   "source": [
    "### From the above describe function, the mean value > median value.So,it is rightly skewed."
   ]
  },
  {
   "cell_type": "code",
   "execution_count": 35,
   "id": "d537a38c",
   "metadata": {},
   "outputs": [
    {
     "data": {
      "image/png": "[encoded data removed]",
      "text/plain": [
       "<Figure size 1080x504 with 1 Axes>"
      ]
     },
     "metadata": {
      "needs_background": "light"
     },
     "output_type": "display_data"
    }
   ],
   "source": [
    "plt.figure(figsize=(15,7))#It shows the figure size\n",
    "sns.boxplot(x='age',data=new_data)#It shows the distribution of data and shows the outliers\n",
    "plt.grid(True)#It shows the grid \n",
    "plt.show()#It shows the plot"
   ]
  },
  {
   "cell_type": "markdown",
   "id": "73b64595",
   "metadata": {},
   "source": [
    "### From the box plot,it clearly shows that most of the outliers lies at upper boundary."
   ]
  },
  {
   "cell_type": "code",
   "execution_count": 36,
   "id": "3d8f2975",
   "metadata": {},
   "outputs": [
    {
     "data": {
      "text/plain": [
       "(23.0, 29.0)"
      ]
     },
     "execution_count": 36,
     "metadata": {},
     "output_type": "execute_result"
    }
   ],
   "source": [
    "Q1=new_data['age'].quantile(0.25)#It shows 25 percentile\n",
    "Q3=new_data['age'].quantile(0.75)#It shows 75 percentile\n",
    "Q1,Q3"
   ]
  },
  {
   "cell_type": "code",
   "execution_count": 37,
   "id": "26be7110",
   "metadata": {},
   "outputs": [
    {
     "data": {
      "text/plain": [
       "6.0"
      ]
     },
     "execution_count": 37,
     "metadata": {},
     "output_type": "execute_result"
    }
   ],
   "source": [
    "IQR=Q3-Q1#The interquartile range (IQR) is the box plot showing the middle 50% of scores and can be calculated by subtracting the lower quartile from the upper quartile (Q3−Q1).\n",
    "IQR"
   ]
  },
  {
   "cell_type": "code",
   "execution_count": 38,
   "id": "937e8caa",
   "metadata": {},
   "outputs": [
    {
     "data": {
      "text/plain": [
       "(14.0, 38.0)"
      ]
     },
     "execution_count": 38,
     "metadata": {},
     "output_type": "execute_result"
    }
   ],
   "source": [
    "lower_boundary=Q1-1.5*IQR#min value \n",
    "upper_boundary=Q3+1.5*IQR#max value\n",
    "lower_boundary,upper_boundary"
   ]
  },
  {
   "cell_type": "code",
   "execution_count": 39,
   "id": "e675f452",
   "metadata": {},
   "outputs": [
    {
     "data": {
      "text/html": [
       "<div>\n",
       "<style scoped>\n",
       "    .dataframe tbody tr th:only-of-type {\n",
       "        vertical-align: middle;\n",
       "    }\n",
       "\n",
       "    .dataframe tbody tr th {\n",
       "        vertical-align: top;\n",
       "    }\n",
       "\n",
       "    .dataframe thead th {\n",
       "        text-align: right;\n",
       "    }\n",
       "</style>\n",
       "<table border=\"1\" class=\"dataframe\">\n",
       "  <thead>\n",
       "    <tr style=\"text-align: right;\">\n",
       "      <th></th>\n",
       "      <th>name</th>\n",
       "      <th>age</th>\n",
       "      <th>country</th>\n",
       "      <th>year</th>\n",
       "      <th>Date_Given</th>\n",
       "      <th>sports</th>\n",
       "      <th>gold_medal</th>\n",
       "      <th>silver_medal</th>\n",
       "      <th>brone_medal</th>\n",
       "      <th>total_medal</th>\n",
       "    </tr>\n",
       "  </thead>\n",
       "  <tbody>\n",
       "    <tr>\n",
       "      <th>64</th>\n",
       "      <td>Dara Torres</td>\n",
       "      <td>41.0</td>\n",
       "      <td>United States</td>\n",
       "      <td>2008</td>\n",
       "      <td>2008-08-24</td>\n",
       "      <td>Swimming</td>\n",
       "      <td>0</td>\n",
       "      <td>3</td>\n",
       "      <td>0</td>\n",
       "      <td>3</td>\n",
       "    </tr>\n",
       "    <tr>\n",
       "      <th>438</th>\n",
       "      <td>Heike Kemmer</td>\n",
       "      <td>46.0</td>\n",
       "      <td>Germany</td>\n",
       "      <td>2008</td>\n",
       "      <td>2008-08-24</td>\n",
       "      <td>Equestrian</td>\n",
       "      <td>1</td>\n",
       "      <td>0</td>\n",
       "      <td>1</td>\n",
       "      <td>2</td>\n",
       "    </tr>\n",
       "    <tr>\n",
       "      <th>439</th>\n",
       "      <td>Eric Lamaze</td>\n",
       "      <td>40.0</td>\n",
       "      <td>Canada</td>\n",
       "      <td>2008</td>\n",
       "      <td>2008-08-24</td>\n",
       "      <td>Equestrian</td>\n",
       "      <td>1</td>\n",
       "      <td>1</td>\n",
       "      <td>0</td>\n",
       "      <td>2</td>\n",
       "    </tr>\n",
       "    <tr>\n",
       "      <th>440</th>\n",
       "      <td>Beezie Madden</td>\n",
       "      <td>44.0</td>\n",
       "      <td>United States</td>\n",
       "      <td>2008</td>\n",
       "      <td>2008-08-24</td>\n",
       "      <td>Equestrian</td>\n",
       "      <td>1</td>\n",
       "      <td>0</td>\n",
       "      <td>1</td>\n",
       "      <td>2</td>\n",
       "    </tr>\n",
       "    <tr>\n",
       "      <th>441</th>\n",
       "      <td>Hinrich Romeike</td>\n",
       "      <td>45.0</td>\n",
       "      <td>Germany</td>\n",
       "      <td>2008</td>\n",
       "      <td>2008-08-24</td>\n",
       "      <td>Equestrian</td>\n",
       "      <td>2</td>\n",
       "      <td>0</td>\n",
       "      <td>0</td>\n",
       "      <td>2</td>\n",
       "    </tr>\n",
       "    <tr>\n",
       "      <th>...</th>\n",
       "      <td>...</td>\n",
       "      <td>...</td>\n",
       "      <td>...</td>\n",
       "      <td>...</td>\n",
       "      <td>...</td>\n",
       "      <td>...</td>\n",
       "      <td>...</td>\n",
       "      <td>...</td>\n",
       "      <td>...</td>\n",
       "      <td>...</td>\n",
       "    </tr>\n",
       "    <tr>\n",
       "      <th>8569</th>\n",
       "      <td>Ilario Di Bu</td>\n",
       "      <td>51.0</td>\n",
       "      <td>Italy</td>\n",
       "      <td>2008</td>\n",
       "      <td>2008-08-24</td>\n",
       "      <td>Archery</td>\n",
       "      <td>0</td>\n",
       "      <td>1</td>\n",
       "      <td>0</td>\n",
       "      <td>1</td>\n",
       "    </tr>\n",
       "    <tr>\n",
       "      <th>8598</th>\n",
       "      <td>Hiroshi Yamamoto</td>\n",
       "      <td>41.0</td>\n",
       "      <td>Japan</td>\n",
       "      <td>2004</td>\n",
       "      <td>2004-08-29</td>\n",
       "      <td>Archery</td>\n",
       "      <td>0</td>\n",
       "      <td>1</td>\n",
       "      <td>0</td>\n",
       "      <td>1</td>\n",
       "    </tr>\n",
       "    <tr>\n",
       "      <th>8604</th>\n",
       "      <td>Ilario Di Bu</td>\n",
       "      <td>43.0</td>\n",
       "      <td>Italy</td>\n",
       "      <td>2000</td>\n",
       "      <td>2000-10-01</td>\n",
       "      <td>Archery</td>\n",
       "      <td>0</td>\n",
       "      <td>1</td>\n",
       "      <td>0</td>\n",
       "      <td>1</td>\n",
       "    </tr>\n",
       "    <tr>\n",
       "      <th>8608</th>\n",
       "      <td>Butch Johnson</td>\n",
       "      <td>45.0</td>\n",
       "      <td>United States</td>\n",
       "      <td>2000</td>\n",
       "      <td>2000-10-01</td>\n",
       "      <td>Archery</td>\n",
       "      <td>0</td>\n",
       "      <td>0</td>\n",
       "      <td>1</td>\n",
       "      <td>1</td>\n",
       "    </tr>\n",
       "    <tr>\n",
       "      <th>8610</th>\n",
       "      <td>Barbara Mensing</td>\n",
       "      <td>39.0</td>\n",
       "      <td>Germany</td>\n",
       "      <td>2000</td>\n",
       "      <td>2000-10-01</td>\n",
       "      <td>Archery</td>\n",
       "      <td>0</td>\n",
       "      <td>0</td>\n",
       "      <td>1</td>\n",
       "      <td>1</td>\n",
       "    </tr>\n",
       "  </tbody>\n",
       "</table>\n",
       "<p>192 rows × 10 columns</p>\n",
       "</div>"
      ],
      "text/plain": [
       "                  name   age        country  year Date_Given      sports  \\\n",
       "64         Dara Torres  41.0  United States  2008 2008-08-24    Swimming   \n",
       "438       Heike Kemmer  46.0        Germany  2008 2008-08-24  Equestrian   \n",
       "439        Eric Lamaze  40.0         Canada  2008 2008-08-24  Equestrian   \n",
       "440      Beezie Madden  44.0  United States  2008 2008-08-24  Equestrian   \n",
       "441    Hinrich Romeike  45.0        Germany  2008 2008-08-24  Equestrian   \n",
       "...                ...   ...            ...   ...        ...         ...   \n",
       "8569     Ilario Di Bu   51.0          Italy  2008 2008-08-24     Archery   \n",
       "8598  Hiroshi Yamamoto  41.0          Japan  2004 2004-08-29     Archery   \n",
       "8604     Ilario Di Bu   43.0          Italy  2000 2000-10-01     Archery   \n",
       "8608     Butch Johnson  45.0  United States  2000 2000-10-01     Archery   \n",
       "8610   Barbara Mensing  39.0        Germany  2000 2000-10-01     Archery   \n",
       "\n",
       "      gold_medal  silver_medal  brone_medal  total_medal  \n",
       "64             0             3            0            3  \n",
       "438            1             0            1            2  \n",
       "439            1             1            0            2  \n",
       "440            1             0            1            2  \n",
       "441            2             0            0            2  \n",
       "...          ...           ...          ...          ...  \n",
       "8569           0             1            0            1  \n",
       "8598           0             1            0            1  \n",
       "8604           0             1            0            1  \n",
       "8608           0             0            1            1  \n",
       "8610           0             0            1            1  \n",
       "\n",
       "[192 rows x 10 columns]"
      ]
     },
     "execution_count": 39,
     "metadata": {},
     "output_type": "execute_result"
    }
   ],
   "source": [
    "new_data[(new_data['age']>upper_boundary)]#Finding out the outliers rows data"
   ]
  },
  {
   "cell_type": "markdown",
   "id": "fed34981",
   "metadata": {},
   "source": [
    "### It is having 192 outliers."
   ]
  },
  {
   "cell_type": "code",
   "execution_count": 40,
   "id": "e47365c3",
   "metadata": {},
   "outputs": [],
   "source": [
    "new_data_removed_outliers=new_data[(new_data['age']<upper_boundary)]#Data of no outliers one"
   ]
  },
  {
   "cell_type": "code",
   "execution_count": 41,
   "id": "473cf6c3",
   "metadata": {},
   "outputs": [
    {
     "data": {
      "text/html": [
       "<div>\n",
       "<style scoped>\n",
       "    .dataframe tbody tr th:only-of-type {\n",
       "        vertical-align: middle;\n",
       "    }\n",
       "\n",
       "    .dataframe tbody tr th {\n",
       "        vertical-align: top;\n",
       "    }\n",
       "\n",
       "    .dataframe thead th {\n",
       "        text-align: right;\n",
       "    }\n",
       "</style>\n",
       "<table border=\"1\" class=\"dataframe\">\n",
       "  <thead>\n",
       "    <tr style=\"text-align: right;\">\n",
       "      <th></th>\n",
       "      <th>name</th>\n",
       "      <th>age</th>\n",
       "      <th>country</th>\n",
       "      <th>year</th>\n",
       "      <th>Date_Given</th>\n",
       "      <th>sports</th>\n",
       "      <th>gold_medal</th>\n",
       "      <th>silver_medal</th>\n",
       "      <th>brone_medal</th>\n",
       "      <th>total_medal</th>\n",
       "    </tr>\n",
       "  </thead>\n",
       "  <tbody>\n",
       "    <tr>\n",
       "      <th>0</th>\n",
       "      <td>Michael Phelps</td>\n",
       "      <td>23.0</td>\n",
       "      <td>United States</td>\n",
       "      <td>2008</td>\n",
       "      <td>2008-08-24</td>\n",
       "      <td>Swimming</td>\n",
       "      <td>8</td>\n",
       "      <td>0</td>\n",
       "      <td>0</td>\n",
       "      <td>8</td>\n",
       "    </tr>\n",
       "    <tr>\n",
       "      <th>1</th>\n",
       "      <td>Michael Phelps</td>\n",
       "      <td>19.0</td>\n",
       "      <td>United States</td>\n",
       "      <td>2004</td>\n",
       "      <td>2004-08-29</td>\n",
       "      <td>Swimming</td>\n",
       "      <td>6</td>\n",
       "      <td>0</td>\n",
       "      <td>2</td>\n",
       "      <td>8</td>\n",
       "    </tr>\n",
       "    <tr>\n",
       "      <th>2</th>\n",
       "      <td>Michael Phelps</td>\n",
       "      <td>27.0</td>\n",
       "      <td>United States</td>\n",
       "      <td>2012</td>\n",
       "      <td>2012-08-12</td>\n",
       "      <td>Swimming</td>\n",
       "      <td>4</td>\n",
       "      <td>2</td>\n",
       "      <td>0</td>\n",
       "      <td>6</td>\n",
       "    </tr>\n",
       "    <tr>\n",
       "      <th>3</th>\n",
       "      <td>Natalie Coughlin</td>\n",
       "      <td>25.0</td>\n",
       "      <td>United States</td>\n",
       "      <td>2008</td>\n",
       "      <td>2008-08-24</td>\n",
       "      <td>Swimming</td>\n",
       "      <td>1</td>\n",
       "      <td>2</td>\n",
       "      <td>3</td>\n",
       "      <td>6</td>\n",
       "    </tr>\n",
       "    <tr>\n",
       "      <th>4</th>\n",
       "      <td>Aleksey Nemov</td>\n",
       "      <td>24.0</td>\n",
       "      <td>Russia</td>\n",
       "      <td>2000</td>\n",
       "      <td>2000-10-01</td>\n",
       "      <td>Gymnastics</td>\n",
       "      <td>2</td>\n",
       "      <td>1</td>\n",
       "      <td>3</td>\n",
       "      <td>6</td>\n",
       "    </tr>\n",
       "  </tbody>\n",
       "</table>\n",
       "</div>"
      ],
      "text/plain": [
       "               name   age        country  year Date_Given      sports  \\\n",
       "0    Michael Phelps  23.0  United States  2008 2008-08-24    Swimming   \n",
       "1    Michael Phelps  19.0  United States  2004 2004-08-29    Swimming   \n",
       "2    Michael Phelps  27.0  United States  2012 2012-08-12    Swimming   \n",
       "3  Natalie Coughlin  25.0  United States  2008 2008-08-24    Swimming   \n",
       "4     Aleksey Nemov  24.0         Russia  2000 2000-10-01  Gymnastics   \n",
       "\n",
       "   gold_medal  silver_medal  brone_medal  total_medal  \n",
       "0           8             0            0            8  \n",
       "1           6             0            2            8  \n",
       "2           4             2            0            6  \n",
       "3           1             2            3            6  \n",
       "4           2             1            3            6  "
      ]
     },
     "execution_count": 41,
     "metadata": {},
     "output_type": "execute_result"
    }
   ],
   "source": [
    "new_data_removed_outliers.head()"
   ]
  },
  {
   "cell_type": "code",
   "execution_count": 42,
   "id": "3779d6b9",
   "metadata": {},
   "outputs": [
    {
     "data": {
      "text/plain": [
       "(8370, 10)"
      ]
     },
     "execution_count": 42,
     "metadata": {},
     "output_type": "execute_result"
    }
   ],
   "source": [
    "new_data_removed_outliers.shape"
   ]
  },
  {
   "cell_type": "code",
   "execution_count": 43,
   "id": "98557ed5",
   "metadata": {},
   "outputs": [
    {
     "data": {
      "image/png": "[encoded data removed]",
      "text/plain": [
       "<Figure size 720x504 with 1 Axes>"
      ]
     },
     "metadata": {
      "needs_background": "light"
     },
     "output_type": "display_data"
    }
   ],
   "source": [
    "plt.figure(figsize=(10,7))\n",
    "sns.boxplot(x='age',data=new_data_removed_outliers)\n",
    "plt.grid(False)\n",
    "plt.show()"
   ]
  },
  {
   "cell_type": "markdown",
   "id": "e08c0b83",
   "metadata": {},
   "source": [
    "### The box plot after removing outliers."
   ]
  },
  {
   "cell_type": "markdown",
   "id": "cf981d28",
   "metadata": {},
   "source": []
  },
  {
   "cell_type": "code",
   "execution_count": 77,
   "id": "8b2ccfb7",
   "metadata": {},
   "outputs": [
    {
     "data": {
      "image/png": "[encoded data removed]",
      "text/plain": [
       "<Figure size 1080x504 with 1 Axes>"
      ]
     },
     "metadata": {
      "needs_background": "light"
     },
     "output_type": "display_data"
    }
   ],
   "source": [
    "plt.figure(figsize=(15,7))#It shows the figure size\n",
    "sns.histplot(x='age',data=new_data_removed_outliers,kde=True,color='brown')#It shows how the data is distributed\n",
    "plt.axvline(x=new_data_removed_outliers['age'].mean(),color='r',label='mean')#It shows the line of the mean \n",
    "plt.axvline(x=new_data_removed_outliers['age'].median(),color='b',label='median',ls='--')#It shows the line of the median\n",
    "plt.title(\"Distribution of age plot\",fontsize=15)#It shows the title of the plot\n",
    "plt.legend(fontsize=15)#It shows the legends\n",
    "plt.show()#It shows the plot"
   ]
  },
  {
   "cell_type": "code",
   "execution_count": 74,
   "id": "35fb4d00",
   "metadata": {},
   "outputs": [
    {
     "data": {
      "text/plain": [
       "count    8370.000000\n",
       "mean       25.961290\n",
       "std         4.401135\n",
       "min        15.000000\n",
       "25%        23.000000\n",
       "50%        26.000000\n",
       "75%        29.000000\n",
       "max        37.000000\n",
       "Name: age, dtype: float64"
      ]
     },
     "execution_count": 74,
     "metadata": {},
     "output_type": "execute_result"
    }
   ],
   "source": [
    "new_data_removed_outliers.age.describe()#It returns statistical summary of the data frame"
   ]
  },
  {
   "cell_type": "markdown",
   "id": "345362f1",
   "metadata": {},
   "source": [
    "### From the plot ,it shows cleary that mean is almost equal to median,so it is now normally distributed after transformation."
   ]
  },
  {
   "cell_type": "code",
   "execution_count": null,
   "id": "e5ab53be",
   "metadata": {},
   "outputs": [],
   "source": []
  },
  {
   "cell_type": "code",
   "execution_count": null,
   "id": "b572b473",
   "metadata": {},
   "outputs": [],
   "source": []
  },
  {
   "cell_type": "markdown",
   "id": "9467d73f",
   "metadata": {
    "id": "ae4666fd"
   },
   "source": [
    "### 7) Please perform appropriate numerical measures on each column and report them accordingly."
   ]
  },
  {
   "cell_type": "code",
   "execution_count": 46,
   "id": "5cbb6687",
   "metadata": {},
   "outputs": [
    {
     "name": "stdout",
     "output_type": "stream",
     "text": [
      "<class 'pandas.core.frame.DataFrame'>\n",
      "Int64Index: 8613 entries, 0 to 8617\n",
      "Data columns (total 10 columns):\n",
      " #   Column        Non-Null Count  Dtype         \n",
      "---  ------        --------------  -----         \n",
      " 0   name          8613 non-null   object        \n",
      " 1   age           8613 non-null   float64       \n",
      " 2   country       8613 non-null   object        \n",
      " 3   year          8613 non-null   int64         \n",
      " 4   Date_Given    8613 non-null   datetime64[ns]\n",
      " 5   sports        8613 non-null   object        \n",
      " 6   gold_medal    8613 non-null   int64         \n",
      " 7   silver_medal  8613 non-null   int64         \n",
      " 8   brone_medal   8613 non-null   int64         \n",
      " 9   total_medal   8613 non-null   int64         \n",
      "dtypes: datetime64[ns](1), float64(1), int64(5), object(3)\n",
      "memory usage: 998.2+ KB\n"
     ]
    }
   ],
   "source": [
    "new_data.info()#It shows the information of the data"
   ]
  },
  {
   "cell_type": "code",
   "execution_count": 47,
   "id": "362891eb",
   "metadata": {},
   "outputs": [
    {
     "data": {
      "text/plain": [
       "Index(['name', 'age', 'country', 'year', 'Date_Given', 'sports', 'gold_medal',\n",
       "       'silver_medal', 'brone_medal', 'total_medal'],\n",
       "      dtype='object')"
      ]
     },
     "execution_count": 47,
     "metadata": {},
     "output_type": "execute_result"
    }
   ],
   "source": [
    "new_data.columns#It shows all column names"
   ]
  },
  {
   "cell_type": "code",
   "execution_count": 48,
   "id": "46c500a6",
   "metadata": {},
   "outputs": [
    {
     "data": {
      "text/plain": [
       "0           Anky van Grunsven\n",
       "1              Artur Taymazov\n",
       "2                 Ben Ainslie\n",
       "3             Bradley Wiggins\n",
       "4                Brenda Villa\n",
       "5                   Chris Hoy\n",
       "6     Christie Pearce Rampone\n",
       "7              Emilie Heymans\n",
       "8              Eskild Ebbesen\n",
       "9               Heather Petri\n",
       "10                Jason Lezak\n",
       "11             Katalin Kov cs\n",
       "12         Katherine Grainger\n",
       "13     Katrin Wagner Augustin\n",
       "14                  Kim Rhode\n",
       "15            Kristi Harrower\n",
       "16             Lauren Jackson\n",
       "17               Leisel Jones\n",
       "18                Lucha Aymar\n",
       "19                 Matt Wells\n",
       "20            Michal Martik n\n",
       "21         Pavol Hochschorner\n",
       "22         Peter Hochschorner\n",
       "23             Robert Scheidt\n",
       "24           Sergey Tetyukhin\n",
       "25          Valentina Vezzali\n",
       "26    Veronica Campbell Brown\n",
       "27                   Wang Hao\n",
       "28                   Yang Wei\n",
       "Name: name, dtype: object"
      ]
     },
     "execution_count": 48,
     "metadata": {},
     "output_type": "execute_result"
    }
   ],
   "source": [
    "new_data['name'].mode()"
   ]
  },
  {
   "cell_type": "markdown",
   "id": "f10162f7",
   "metadata": {},
   "source": [
    "###  The appropriate  measure for name column is mode."
   ]
  },
  {
   "cell_type": "code",
   "execution_count": 49,
   "id": "190efe4c",
   "metadata": {},
   "outputs": [
    {
     "data": {
      "text/plain": [
       "26.0"
      ]
     },
     "execution_count": 49,
     "metadata": {},
     "output_type": "execute_result"
    }
   ],
   "source": [
    "new_data['age'].median()"
   ]
  },
  {
   "cell_type": "markdown",
   "id": "740320fd",
   "metadata": {},
   "source": [
    "### The appropriate measure for age column is median."
   ]
  },
  {
   "cell_type": "code",
   "execution_count": 50,
   "id": "f016acd3",
   "metadata": {},
   "outputs": [
    {
     "data": {
      "text/plain": [
       "0    United States\n",
       "Name: country, dtype: object"
      ]
     },
     "execution_count": 50,
     "metadata": {},
     "output_type": "execute_result"
    }
   ],
   "source": [
    "new_data['country'].mode()"
   ]
  },
  {
   "cell_type": "markdown",
   "id": "fad724b4",
   "metadata": {},
   "source": [
    "### The appropriate measure for country column is mode."
   ]
  },
  {
   "cell_type": "code",
   "execution_count": 51,
   "id": "447e541e",
   "metadata": {},
   "outputs": [
    {
     "data": {
      "text/plain": [
       "0    2008\n",
       "Name: year, dtype: int64"
      ]
     },
     "execution_count": 51,
     "metadata": {},
     "output_type": "execute_result"
    }
   ],
   "source": [
    "new_data['year'].mode()"
   ]
  },
  {
   "cell_type": "markdown",
   "id": "1166b0eb",
   "metadata": {},
   "source": [
    "### The appropriate measure for year column is mode."
   ]
  },
  {
   "cell_type": "code",
   "execution_count": 52,
   "id": "327fd73b",
   "metadata": {},
   "outputs": [
    {
     "data": {
      "text/plain": [
       "0   2008-08-24\n",
       "Name: Date_Given, dtype: datetime64[ns]"
      ]
     },
     "execution_count": 52,
     "metadata": {},
     "output_type": "execute_result"
    }
   ],
   "source": [
    "new_data['Date_Given'].mode()"
   ]
  },
  {
   "cell_type": "markdown",
   "id": "d04792b9",
   "metadata": {},
   "source": [
    "### The appropriate measure for Date_Given column is mode."
   ]
  },
  {
   "cell_type": "code",
   "execution_count": 53,
   "id": "4b316b11",
   "metadata": {},
   "outputs": [
    {
     "data": {
      "text/plain": [
       "Athletics                    687\n",
       "Rowing                       567\n",
       "Swimming                     487\n",
       "Football                     407\n",
       "Hockey                       386\n",
       "Ice Hockey                   384\n",
       "Handball                     351\n",
       "Waterpolo                    306\n",
       "Canoeing                     295\n",
       "Basketball                   287\n",
       "Volleyball                   278\n",
       "Cycling                      261\n",
       "Wrestling                    245\n",
       "Fencing                      230\n",
       "Judo                         224\n",
       "Baseball                     216\n",
       "Sailing                      210\n",
       "Gymnastics                   194\n",
       "Boxing                       188\n",
       "Shooting                     181\n",
       "Weightlifting                180\n",
       "Equestrian                   157\n",
       "Softball                     134\n",
       "Cross Country Skiing         128\n",
       "Diving                       113\n",
       "Taekwondo                    112\n",
       "Synchronized Swimming        109\n",
       "Speed Skating                103\n",
       "Short-Track Speed Skating     96\n",
       "Biathlon                      94\n",
       "Badminton                     91\n",
       "Rhythmic Gymnastics           84\n",
       "Archery                       84\n",
       "Curling                       82\n",
       "Tennis                        71\n",
       "Table Tennis                  67\n",
       "Bobsleigh                     66\n",
       "Alpine Skiing                 61\n",
       "Figure Skating                54\n",
       "Snowboarding                  48\n",
       "Beach Volleyball              48\n",
       "Freestyle Skiing              42\n",
       "Ski Jumping                   40\n",
       "Nordic Combined               39\n",
       "Luge                          36\n",
       "Modern Pentathlon             24\n",
       "Triathlon                     24\n",
       "Trampoline                    24\n",
       "Skeleton                      18\n",
       "Name: sports, dtype: int64"
      ]
     },
     "execution_count": 53,
     "metadata": {},
     "output_type": "execute_result"
    }
   ],
   "source": [
    "new_data['sports'].value_counts()#It shows the value counts of sports"
   ]
  },
  {
   "cell_type": "code",
   "execution_count": 54,
   "id": "1029c600",
   "metadata": {},
   "outputs": [
    {
     "data": {
      "text/plain": [
       "0    Athletics\n",
       "Name: sports, dtype: object"
      ]
     },
     "execution_count": 54,
     "metadata": {},
     "output_type": "execute_result"
    }
   ],
   "source": [
    "new_data['sports'].mode()"
   ]
  },
  {
   "cell_type": "markdown",
   "id": "5b52871e",
   "metadata": {},
   "source": [
    "### The appropriate measure for sports column is mode."
   ]
  },
  {
   "cell_type": "code",
   "execution_count": 55,
   "id": "7956adfd",
   "metadata": {},
   "outputs": [
    {
     "data": {
      "text/plain": [
       "count    8613.000000\n",
       "mean        0.364914\n",
       "std         0.545436\n",
       "min         0.000000\n",
       "25%         0.000000\n",
       "50%         0.000000\n",
       "75%         1.000000\n",
       "max         8.000000\n",
       "Name: gold_medal, dtype: float64"
      ]
     },
     "execution_count": 55,
     "metadata": {},
     "output_type": "execute_result"
    }
   ],
   "source": [
    "new_data['gold_medal'].describe()#It returns statistical summary of the data frame"
   ]
  },
  {
   "cell_type": "code",
   "execution_count": 56,
   "id": "f58a1382",
   "metadata": {},
   "outputs": [
    {
     "data": {
      "text/plain": [
       "0"
      ]
     },
     "execution_count": 56,
     "metadata": {},
     "output_type": "execute_result"
    }
   ],
   "source": [
    "min_gold_medal=new_data['gold_medal'].min()\n",
    "min_gold_medal"
   ]
  },
  {
   "cell_type": "code",
   "execution_count": 57,
   "id": "1dc1249b",
   "metadata": {},
   "outputs": [
    {
     "data": {
      "text/plain": [
       "8"
      ]
     },
     "execution_count": 57,
     "metadata": {},
     "output_type": "execute_result"
    }
   ],
   "source": [
    "max_gold_medal=new_data['gold_medal'].max()\n",
    "max_gold_medal"
   ]
  },
  {
   "cell_type": "markdown",
   "id": "32334676",
   "metadata": {},
   "source": [
    "### The appropriate measure for gold_medal column is max and min."
   ]
  },
  {
   "cell_type": "code",
   "execution_count": 59,
   "id": "9d90ddb2",
   "metadata": {},
   "outputs": [
    {
     "data": {
      "text/plain": [
       "0"
      ]
     },
     "execution_count": 59,
     "metadata": {},
     "output_type": "execute_result"
    }
   ],
   "source": [
    "min_silver_medal=new_data['silver_medal'].min()\n",
    "min_silver_medal"
   ]
  },
  {
   "cell_type": "code",
   "execution_count": 60,
   "id": "e367300f",
   "metadata": {},
   "outputs": [
    {
     "data": {
      "text/plain": [
       "3"
      ]
     },
     "execution_count": 60,
     "metadata": {},
     "output_type": "execute_result"
    }
   ],
   "source": [
    "max_silver_medal=new_data['silver_medal'].max()\n",
    "max_silver_medal"
   ]
  },
  {
   "cell_type": "markdown",
   "id": "fe71f0d1",
   "metadata": {},
   "source": [
    "### The appropriate measure for silver medal column is max and min."
   ]
  },
  {
   "cell_type": "code",
   "execution_count": 62,
   "id": "7921583b",
   "metadata": {},
   "outputs": [
    {
     "data": {
      "text/plain": [
       "0"
      ]
     },
     "execution_count": 62,
     "metadata": {},
     "output_type": "execute_result"
    }
   ],
   "source": [
    "min_brone_medal=new_data['brone_medal'].min()\n",
    "min_brone_medal"
   ]
  },
  {
   "cell_type": "code",
   "execution_count": 63,
   "id": "332932dd",
   "metadata": {},
   "outputs": [
    {
     "data": {
      "text/plain": [
       "3"
      ]
     },
     "execution_count": 63,
     "metadata": {},
     "output_type": "execute_result"
    }
   ],
   "source": [
    "max_brone_medal=new_data['brone_medal'].max()\n",
    "max_brone_medal"
   ]
  },
  {
   "cell_type": "markdown",
   "id": "7d591b18",
   "metadata": {},
   "source": [
    "### The appropriate measure for bronze medal column is max and min."
   ]
  },
  {
   "cell_type": "code",
   "execution_count": 64,
   "id": "e6f30228",
   "metadata": {},
   "outputs": [
    {
     "data": {
      "text/plain": [
       "0"
      ]
     },
     "execution_count": 64,
     "metadata": {},
     "output_type": "execute_result"
    }
   ],
   "source": [
    "min_total_medal=new_data['silver_medal'].min()\n",
    "min_total_medal"
   ]
  },
  {
   "cell_type": "code",
   "execution_count": 65,
   "id": "4a26c85a",
   "metadata": {},
   "outputs": [
    {
     "data": {
      "text/plain": [
       "3"
      ]
     },
     "execution_count": 65,
     "metadata": {},
     "output_type": "execute_result"
    }
   ],
   "source": [
    "max_total_medal=new_data['silver_medal'].max()\n",
    "max_silver_medal"
   ]
  },
  {
   "cell_type": "markdown",
   "id": "11ff9300",
   "metadata": {},
   "source": [
    "### The appropriate measure for total medal column is max and min."
   ]
  },
  {
   "cell_type": "code",
   "execution_count": null,
   "id": "f8516b7f",
   "metadata": {},
   "outputs": [],
   "source": []
  },
  {
   "cell_type": "code",
   "execution_count": null,
   "id": "57238f01",
   "metadata": {},
   "outputs": [],
   "source": []
  },
  {
   "cell_type": "code",
   "execution_count": null,
   "id": "6de29929",
   "metadata": {},
   "outputs": [],
   "source": []
  },
  {
   "cell_type": "markdown",
   "id": "5a327345",
   "metadata": {
    "id": "c4f6b7f8"
   },
   "source": [
    "## 8) Please list the top 10 countries with the gold medal, then top10 countries with the silver medal, then bronze medal and the total medal."
   ]
  },
  {
   "cell_type": "code",
   "execution_count": 66,
   "id": "c20d44bf",
   "metadata": {
    "id": "c20d44bf"
   },
   "outputs": [],
   "source": [
    "gold_medals=pd.DataFrame(new_data.groupby(['country'])['gold_medal'].sum())"
   ]
  },
  {
   "cell_type": "code",
   "execution_count": 67,
   "id": "f65a380b",
   "metadata": {
    "id": "f65a380b"
   },
   "outputs": [
    {
     "data": {
      "text/html": [
       "<div>\n",
       "<style scoped>\n",
       "    .dataframe tbody tr th:only-of-type {\n",
       "        vertical-align: middle;\n",
       "    }\n",
       "\n",
       "    .dataframe tbody tr th {\n",
       "        vertical-align: top;\n",
       "    }\n",
       "\n",
       "    .dataframe thead th {\n",
       "        text-align: right;\n",
       "    }\n",
       "</style>\n",
       "<table border=\"1\" class=\"dataframe\">\n",
       "  <thead>\n",
       "    <tr style=\"text-align: right;\">\n",
       "      <th></th>\n",
       "      <th>gold_medal</th>\n",
       "    </tr>\n",
       "    <tr>\n",
       "      <th>country</th>\n",
       "      <th></th>\n",
       "    </tr>\n",
       "  </thead>\n",
       "  <tbody>\n",
       "    <tr>\n",
       "      <th>United States</th>\n",
       "      <td>552</td>\n",
       "    </tr>\n",
       "    <tr>\n",
       "      <th>Russia</th>\n",
       "      <td>234</td>\n",
       "    </tr>\n",
       "    <tr>\n",
       "      <th>China</th>\n",
       "      <td>234</td>\n",
       "    </tr>\n",
       "    <tr>\n",
       "      <th>Germany</th>\n",
       "      <td>223</td>\n",
       "    </tr>\n",
       "    <tr>\n",
       "      <th>Canada</th>\n",
       "      <td>168</td>\n",
       "    </tr>\n",
       "    <tr>\n",
       "      <th>Australia</th>\n",
       "      <td>163</td>\n",
       "    </tr>\n",
       "    <tr>\n",
       "      <th>Great Britain</th>\n",
       "      <td>124</td>\n",
       "    </tr>\n",
       "    <tr>\n",
       "      <th>South Korea</th>\n",
       "      <td>110</td>\n",
       "    </tr>\n",
       "    <tr>\n",
       "      <th>France</th>\n",
       "      <td>108</td>\n",
       "    </tr>\n",
       "    <tr>\n",
       "      <th>Netherlands</th>\n",
       "      <td>101</td>\n",
       "    </tr>\n",
       "  </tbody>\n",
       "</table>\n",
       "</div>"
      ],
      "text/plain": [
       "               gold_medal\n",
       "country                  \n",
       "United States         552\n",
       "Russia                234\n",
       "China                 234\n",
       "Germany               223\n",
       "Canada                168\n",
       "Australia             163\n",
       "Great Britain         124\n",
       "South Korea           110\n",
       "France                108\n",
       "Netherlands           101"
      ]
     },
     "execution_count": 67,
     "metadata": {},
     "output_type": "execute_result"
    }
   ],
   "source": [
    "gold_medals.sort_values('gold_medal',ascending=False).head(10)"
   ]
  },
  {
   "cell_type": "markdown",
   "id": "b0521b39",
   "metadata": {},
   "source": [
    "### Observation:"
   ]
  },
  {
   "cell_type": "markdown",
   "id": "7aa983a8",
   "metadata": {},
   "source": [
    "### The United States has highest number of gold medals of count 552,then followed by Russia of count 234,then after China of count 234,but Russia and China shares same count of medals."
   ]
  },
  {
   "cell_type": "code",
   "execution_count": 68,
   "id": "b5d95494",
   "metadata": {
    "id": "b5d95494"
   },
   "outputs": [],
   "source": [
    "silver_medals=pd.DataFrame(new_data.groupby(['country'])['silver_medal'].sum())"
   ]
  },
  {
   "cell_type": "code",
   "execution_count": 69,
   "id": "b2adf95b",
   "metadata": {
    "id": "b2adf95b"
   },
   "outputs": [
    {
     "data": {
      "text/html": [
       "<div>\n",
       "<style scoped>\n",
       "    .dataframe tbody tr th:only-of-type {\n",
       "        vertical-align: middle;\n",
       "    }\n",
       "\n",
       "    .dataframe tbody tr th {\n",
       "        vertical-align: top;\n",
       "    }\n",
       "\n",
       "    .dataframe thead th {\n",
       "        text-align: right;\n",
       "    }\n",
       "</style>\n",
       "<table border=\"1\" class=\"dataframe\">\n",
       "  <thead>\n",
       "    <tr style=\"text-align: right;\">\n",
       "      <th></th>\n",
       "      <th>silver_medal</th>\n",
       "    </tr>\n",
       "    <tr>\n",
       "      <th>country</th>\n",
       "      <th></th>\n",
       "    </tr>\n",
       "  </thead>\n",
       "  <tbody>\n",
       "    <tr>\n",
       "      <th>United States</th>\n",
       "      <td>440</td>\n",
       "    </tr>\n",
       "    <tr>\n",
       "      <th>Australia</th>\n",
       "      <td>226</td>\n",
       "    </tr>\n",
       "    <tr>\n",
       "      <th>Russia</th>\n",
       "      <td>221</td>\n",
       "    </tr>\n",
       "    <tr>\n",
       "      <th>Germany</th>\n",
       "      <td>183</td>\n",
       "    </tr>\n",
       "    <tr>\n",
       "      <th>China</th>\n",
       "      <td>156</td>\n",
       "    </tr>\n",
       "    <tr>\n",
       "      <th>Netherlands</th>\n",
       "      <td>135</td>\n",
       "    </tr>\n",
       "    <tr>\n",
       "      <th>Spain</th>\n",
       "      <td>116</td>\n",
       "    </tr>\n",
       "    <tr>\n",
       "      <th>Japan</th>\n",
       "      <td>112</td>\n",
       "    </tr>\n",
       "    <tr>\n",
       "      <th>France</th>\n",
       "      <td>107</td>\n",
       "    </tr>\n",
       "    <tr>\n",
       "      <th>Italy</th>\n",
       "      <td>103</td>\n",
       "    </tr>\n",
       "  </tbody>\n",
       "</table>\n",
       "</div>"
      ],
      "text/plain": [
       "               silver_medal\n",
       "country                    \n",
       "United States           440\n",
       "Australia               226\n",
       "Russia                  221\n",
       "Germany                 183\n",
       "China                   156\n",
       "Netherlands             135\n",
       "Spain                   116\n",
       "Japan                   112\n",
       "France                  107\n",
       "Italy                   103"
      ]
     },
     "execution_count": 69,
     "metadata": {},
     "output_type": "execute_result"
    }
   ],
   "source": [
    "silver_medals.sort_values('silver_medal',ascending=False).head(10)"
   ]
  },
  {
   "cell_type": "markdown",
   "id": "6a9612af",
   "metadata": {},
   "source": [
    "### Observation:"
   ]
  },
  {
   "cell_type": "markdown",
   "id": "5e17f621",
   "metadata": {},
   "source": [
    "### The United States has highest number of silver medal of count 440,then followed by Australia of count 226 and followed by 221."
   ]
  },
  {
   "cell_type": "code",
   "execution_count": 70,
   "id": "f86cf7ec",
   "metadata": {
    "id": "f86cf7ec"
   },
   "outputs": [],
   "source": [
    "bronze_medals=pd.DataFrame(new_data.groupby(['country'])['brone_medal'].sum())"
   ]
  },
  {
   "cell_type": "code",
   "execution_count": 71,
   "id": "09a40d63",
   "metadata": {
    "id": "09a40d63"
   },
   "outputs": [
    {
     "data": {
      "text/html": [
       "<div>\n",
       "<style scoped>\n",
       "    .dataframe tbody tr th:only-of-type {\n",
       "        vertical-align: middle;\n",
       "    }\n",
       "\n",
       "    .dataframe tbody tr th {\n",
       "        vertical-align: top;\n",
       "    }\n",
       "\n",
       "    .dataframe thead th {\n",
       "        text-align: right;\n",
       "    }\n",
       "</style>\n",
       "<table border=\"1\" class=\"dataframe\">\n",
       "  <thead>\n",
       "    <tr style=\"text-align: right;\">\n",
       "      <th></th>\n",
       "      <th>brone_medal</th>\n",
       "    </tr>\n",
       "    <tr>\n",
       "      <th>country</th>\n",
       "      <th></th>\n",
       "    </tr>\n",
       "  </thead>\n",
       "  <tbody>\n",
       "    <tr>\n",
       "      <th>United States</th>\n",
       "      <td>320</td>\n",
       "    </tr>\n",
       "    <tr>\n",
       "      <th>Russia</th>\n",
       "      <td>313</td>\n",
       "    </tr>\n",
       "    <tr>\n",
       "      <th>Germany</th>\n",
       "      <td>223</td>\n",
       "    </tr>\n",
       "    <tr>\n",
       "      <th>Australia</th>\n",
       "      <td>220</td>\n",
       "    </tr>\n",
       "    <tr>\n",
       "      <th>Italy</th>\n",
       "      <td>142</td>\n",
       "    </tr>\n",
       "    <tr>\n",
       "      <th>China</th>\n",
       "      <td>140</td>\n",
       "    </tr>\n",
       "    <tr>\n",
       "      <th>Japan</th>\n",
       "      <td>113</td>\n",
       "    </tr>\n",
       "    <tr>\n",
       "      <th>South Korea</th>\n",
       "      <td>105</td>\n",
       "    </tr>\n",
       "    <tr>\n",
       "      <th>Canada</th>\n",
       "      <td>104</td>\n",
       "    </tr>\n",
       "    <tr>\n",
       "      <th>France</th>\n",
       "      <td>103</td>\n",
       "    </tr>\n",
       "  </tbody>\n",
       "</table>\n",
       "</div>"
      ],
      "text/plain": [
       "               brone_medal\n",
       "country                   \n",
       "United States          320\n",
       "Russia                 313\n",
       "Germany                223\n",
       "Australia              220\n",
       "Italy                  142\n",
       "China                  140\n",
       "Japan                  113\n",
       "South Korea            105\n",
       "Canada                 104\n",
       "France                 103"
      ]
     },
     "execution_count": 71,
     "metadata": {},
     "output_type": "execute_result"
    }
   ],
   "source": [
    "bronze_medals.sort_values('brone_medal',ascending=False).head(10)"
   ]
  },
  {
   "cell_type": "markdown",
   "id": "0e464ee1",
   "metadata": {},
   "source": [
    "### Observation:"
   ]
  },
  {
   "cell_type": "markdown",
   "id": "1a6e9295",
   "metadata": {},
   "source": [
    "### The United States has highest number of bronze medal of count 320,then followed by Russia of count 313 and followed by Germany 223."
   ]
  },
  {
   "cell_type": "code",
   "execution_count": 72,
   "id": "641e313a",
   "metadata": {
    "id": "641e313a"
   },
   "outputs": [],
   "source": [
    "total_medals=pd.DataFrame(new_data.groupby(['country'])['total_medal'].sum())"
   ]
  },
  {
   "cell_type": "code",
   "execution_count": 73,
   "id": "fc1903b9",
   "metadata": {
    "id": "fc1903b9"
   },
   "outputs": [
    {
     "data": {
      "text/html": [
       "<div>\n",
       "<style scoped>\n",
       "    .dataframe tbody tr th:only-of-type {\n",
       "        vertical-align: middle;\n",
       "    }\n",
       "\n",
       "    .dataframe tbody tr th {\n",
       "        vertical-align: top;\n",
       "    }\n",
       "\n",
       "    .dataframe thead th {\n",
       "        text-align: right;\n",
       "    }\n",
       "</style>\n",
       "<table border=\"1\" class=\"dataframe\">\n",
       "  <thead>\n",
       "    <tr style=\"text-align: right;\">\n",
       "      <th></th>\n",
       "      <th>total_medal</th>\n",
       "    </tr>\n",
       "    <tr>\n",
       "      <th>country</th>\n",
       "      <th></th>\n",
       "    </tr>\n",
       "  </thead>\n",
       "  <tbody>\n",
       "    <tr>\n",
       "      <th>United States</th>\n",
       "      <td>1312</td>\n",
       "    </tr>\n",
       "    <tr>\n",
       "      <th>Russia</th>\n",
       "      <td>768</td>\n",
       "    </tr>\n",
       "    <tr>\n",
       "      <th>Germany</th>\n",
       "      <td>629</td>\n",
       "    </tr>\n",
       "    <tr>\n",
       "      <th>Australia</th>\n",
       "      <td>609</td>\n",
       "    </tr>\n",
       "    <tr>\n",
       "      <th>China</th>\n",
       "      <td>530</td>\n",
       "    </tr>\n",
       "    <tr>\n",
       "      <th>Canada</th>\n",
       "      <td>370</td>\n",
       "    </tr>\n",
       "    <tr>\n",
       "      <th>Italy</th>\n",
       "      <td>331</td>\n",
       "    </tr>\n",
       "    <tr>\n",
       "      <th>Great Britain</th>\n",
       "      <td>322</td>\n",
       "    </tr>\n",
       "    <tr>\n",
       "      <th>France</th>\n",
       "      <td>318</td>\n",
       "    </tr>\n",
       "    <tr>\n",
       "      <th>Netherlands</th>\n",
       "      <td>318</td>\n",
       "    </tr>\n",
       "  </tbody>\n",
       "</table>\n",
       "</div>"
      ],
      "text/plain": [
       "               total_medal\n",
       "country                   \n",
       "United States         1312\n",
       "Russia                 768\n",
       "Germany                629\n",
       "Australia              609\n",
       "China                  530\n",
       "Canada                 370\n",
       "Italy                  331\n",
       "Great Britain          322\n",
       "France                 318\n",
       "Netherlands            318"
      ]
     },
     "execution_count": 73,
     "metadata": {},
     "output_type": "execute_result"
    }
   ],
   "source": [
    "total_medals.sort_values('total_medal',ascending=False).head(10)"
   ]
  },
  {
   "cell_type": "markdown",
   "id": "fd9c3b38",
   "metadata": {},
   "source": [
    "### Observation:"
   ]
  },
  {
   "cell_type": "markdown",
   "id": "7f408bca",
   "metadata": {},
   "source": [
    "### The United States has highest number of total medal of count 1312,then followed by Russia of count 768 and followed by Germany 629."
   ]
  }
 ],
 "metadata": {
  "colab": {
   "name": "CAPSON PANDAS PROJECT.ipynb",
   "provenance": []
  },
  "kernelspec": {
   "display_name": "Python 3 (ipykernel)",
   "language": "python",
   "name": "python3"
  },
  "language_info": {
   "codemirror_mode": {
    "name": "ipython",
    "version": 3
   },
   "file_extension": ".py",
   "mimetype": "text/x-python",
   "name": "python",
   "nbconvert_exporter": "python",
   "pygments_lexer": "ipython3",
   "version": "3.9.12"
  }
 },
 "nbformat": 4,
 "nbformat_minor": 5
}
